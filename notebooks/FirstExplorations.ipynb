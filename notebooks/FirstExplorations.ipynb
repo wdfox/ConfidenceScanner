{
 "cells": [
  {
   "cell_type": "markdown",
   "metadata": {},
   "source": [
    "# Exploring 1st Iteration Data"
   ]
  },
  {
   "cell_type": "markdown",
   "metadata": {},
   "source": [
    "### Setup"
   ]
  },
  {
   "cell_type": "code",
   "execution_count": 1,
   "metadata": {
    "collapsed": true
   },
   "outputs": [],
   "source": [
    "# General Imports\n",
    "import os\n",
    "import nltk\n",
    "from itertools import chain"
   ]
  },
  {
   "cell_type": "code",
   "execution_count": 2,
   "metadata": {
    "collapsed": true
   },
   "outputs": [],
   "source": [
    "# Add paths for custom code & data\n",
    "#  This is a bit of a hack to add the directories for code & data, in a general way\n",
    "#  This approach assumes the everything is located up one directory\n",
    "base_path = os.path.dirname(os.getcwd())\n",
    "dat_path = os.path.join(base_path, 'Data')"
   ]
  },
  {
   "cell_type": "code",
   "execution_count": 3,
   "metadata": {
    "collapsed": true
   },
   "outputs": [],
   "source": [
    "# Add custom code location to path\n",
    "#import sys\n",
    "#sys.path.append(base_path)\n",
    "\n",
    "# Import custom code\n",
    "from consc.data import load_folder"
   ]
  },
  {
   "cell_type": "markdown",
   "metadata": {},
   "source": [
    "### Functions\n",
    "\n",
    "These are some quick functions to work with the data"
   ]
  },
  {
   "cell_type": "code",
   "execution_count": 4,
   "metadata": {
    "collapsed": true
   },
   "outputs": [],
   "source": [
    "def get_all_words(dat, field):\n",
    "    \"\"\"Extract all (tokenized) words across a collection of documents.\"\"\"\n",
    "    \n",
    "    all_words = [getattr(doc, field) for doc in dat]\n",
    "    all_words = list(chain.from_iterable(all_words))\n",
    "    \n",
    "    return all_words"
   ]
  },
  {
   "cell_type": "markdown",
   "metadata": {},
   "source": [
    "### Loading"
   ]
  },
  {
   "cell_type": "code",
   "execution_count": 5,
   "metadata": {},
   "outputs": [],
   "source": [
    "# Set term to analyze\n",
    "current_term = 'autism'\n",
    "\n",
    "# Load the data\n",
    "paper_dat = load_folder('Papers', current_term, dat_path)\n",
    "press_dat = load_folder('PRs', current_term, dat_path)"
   ]
  },
  {
   "cell_type": "markdown",
   "metadata": {},
   "source": [
    "#### Sanity Check Loaded Data"
   ]
  },
  {
   "cell_type": "code",
   "execution_count": 6,
   "metadata": {},
   "outputs": [
    {
     "name": "stdout",
     "output_type": "stream",
     "text": [
      "498\n",
      "333\n"
     ]
    }
   ],
   "source": [
    "# Check data sizes\n",
    "print(len(paper_dat))\n",
    "print(len(press_dat))"
   ]
  },
  {
   "cell_type": "markdown",
   "metadata": {},
   "source": [
    "#### Check examples of data"
   ]
  },
  {
   "cell_type": "code",
   "execution_count": 7,
   "metadata": {},
   "outputs": [
    {
     "name": "stdout",
     "output_type": "stream",
     "text": [
      "Huntington Disease (HD) is an autosomal dominant disorder characterized by motor, cognitive and behavioral features caused by a CAG expansion in the HTT gene beyond 35 repeats. The juvenile form (JHD) may begin before the age of 20years and is associated with expanded alleles as long as 60 or more CAG repeats. In this study, induced pluripotent stem cells were generated from skin fibroblasts of a 8-year-old child carrying a large size mutation of 84 CAG repeats in the HTT gene. HD appeared at age 3 with mixed psychiatric (i.e. autistic spectrum disorder) and motor (i.e. dystonia) manifestations.\n"
     ]
    }
   ],
   "source": [
    "# Paper\n",
    "for ke, va in paper_dat[0].__dict__().items():\n",
    "    print(ke, '\\t:\\t', va)"
   ]
  },
  {
   "cell_type": "code",
   "execution_count": 24,
   "metadata": {
    "scrolled": false
   },
   "outputs": [
    {
     "name": "stdout",
     "output_type": "stream",
     "text": [
      "url \t:\t http://www.eurekalert.org/pub_releases/2017-01/e-pim012417.php\n",
      "title \t:\t Prenatal infection may alter brain development via epigenetic changes | EurekAlert! Science News\n",
      "text \t:\t Experimental Biology 2017April 22 - 26, 2017Chicago, IL2018 AAAS Annual Meeting\n",
      "February 15 - 19, 2018Austin, TXPhiladelphia, PA, Jan. 24, 2017 - Maternal infection during pregnancy increases the risk for psychiatric disorders in the child, but the path between the two is something of a mystery. In a study published in Biological Psychiatry, senior author Professor Urs Meyer of the University of Zurich-Vetsuisse in Zurich, Switzerland and colleagues use a mouse model to show that activation of the mother's immune system may cause long-term alterations in the programming of the offspring's genome, known as epigenetic modifications, which lead to behavioral abnormalities in adulthood.\"This study suggests that immunologic activation may be the connection between maternal infection to epigenetic changes that produce lasting changes in brain development,\" said Dr. John Krystal, Editor of Biological Psychiatry.The findings provide new insight into the molecular mechanisms behind the risk factor. The alterations were found in a specific type of epigenetic modification called DNA methylation, which has been increasingly implicated in the origin of neurodevelopmental disorders. Altered DNA methylation appeared throughout the offspring's genome, and differed based on the timing of infection.First author Dr. Juliet Richetto and colleagues induced a viral-like infection in pregnant mouse mothers at two important time points during brain development of the offspring, in early and late gestation. Immune activation at both time points produced alterations in a few common genes associated with neurodevelopment, but most were distinct. For example, late prenatal infection altered methylation of genes related to the development and function of GABA cells, whereas earlier exposure disrupted genes important for Wnt signaling, a pathway fundamental to early developmental events during embryogenesis. The findings indicate the importance of the timing of prenatal immune activation, and suggest that earlier infection may lead to more serious effects on neurodevelopment.\"Another intriguing finding of our study is that the pattern of DNA methylation in prenatally infected offspring changes over time,\" said Meyer, noting that alterations that were present when the mice reached adulthood were not observed when the mice were born. According to Meyer, the findings suggest that the modifications are dynamic and are likely influenced by activity-dependent events as the mice age.\"The adult emergence of multiple epigenetic modifications also raises the clinically relevant question as to whether some of these anomalies could be attenuated or even prevented by early interventions targeting the epigenetic machinery,\" said Meyer. This would have important implications because the researchers found that the infection-induced modifications had functional consequences. The mRNA levels of genes showing differential methylation were altered in the offspring, indicating the epigenetic changes were modulating gene expression. Further, the offspring exhibited cognitive and behavioral abnormalities present in animal models of neurodevelopmental disorders, such as schizophrenia and autism, suggesting that prenatal infection may cause genome-wide methylation abnormalities in these disorders. Thus, the possibility of targeting these modifications could open a potential avenue for preventative treatments in people exposed to prenatal infection.\n",
      "sentences \t:\t ['Experimental Biology 2017April 22 - 26, 2017Chicago, IL2018 AAAS Annual Meeting\\nFebruary 15 - 19, 2018Austin, TXPhiladelphia, PA, Jan. 24, 2017 - Maternal infection during pregnancy increases the risk for psychiatric disorders in the child, but the path between the two is something of a mystery.', \"In a study published in Biological Psychiatry, senior author Professor Urs Meyer of the University of Zurich-Vetsuisse in Zurich, Switzerland and colleagues use a mouse model to show that activation of the mother's immune system may cause long-term alterations in the programming of the offspring's genome, known as epigenetic modifications, which lead to behavioral abnormalities in adulthood.\", '\"This study suggests that immunologic activation may be the connection between maternal infection to epigenetic changes that produce lasting changes in brain development,\" said Dr. John Krystal, Editor of Biological Psychiatry.The findings provide new insight into the molecular mechanisms behind the risk factor.', 'The alterations were found in a specific type of epigenetic modification called DNA methylation, which has been increasingly implicated in the origin of neurodevelopmental disorders.', \"Altered DNA methylation appeared throughout the offspring's genome, and differed based on the timing of infection.First author Dr. Juliet Richetto and colleagues induced a viral-like infection in pregnant mouse mothers at two important time points during brain development of the offspring, in early and late gestation.\", 'Immune activation at both time points produced alterations in a few common genes associated with neurodevelopment, but most were distinct.', 'For example, late prenatal infection altered methylation of genes related to the development and function of GABA cells, whereas earlier exposure disrupted genes important for Wnt signaling, a pathway fundamental to early developmental events during embryogenesis.', 'The findings indicate the importance of the timing of prenatal immune activation, and suggest that earlier infection may lead to more serious effects on neurodevelopment.', '\"Another intriguing finding of our study is that the pattern of DNA methylation in prenatally infected offspring changes over time,\" said Meyer, noting that alterations that were present when the mice reached adulthood were not observed when the mice were born.', 'According to Meyer, the findings suggest that the modifications are dynamic and are likely influenced by activity-dependent events as the mice age.', '\"The adult emergence of multiple epigenetic modifications also raises the clinically relevant question as to whether some of these anomalies could be attenuated or even prevented by early interventions targeting the epigenetic machinery,\" said Meyer.', 'This would have important implications because the researchers found that the infection-induced modifications had functional consequences.', 'The mRNA levels of genes showing differential methylation were altered in the offspring, indicating the epigenetic changes were modulating gene expression.', 'Further, the offspring exhibited cognitive and behavioral abnormalities present in animal models of neurodevelopmental disorders, such as schizophrenia and autism, suggesting that prenatal infection may cause genome-wide methylation abnormalities in these disorders.', 'Thus, the possibility of targeting these modifications could open a potential avenue for preventative treatments in people exposed to prenatal infection.']\n",
      "words \t:\t ['experimental', 'biology', '2017april', '22', '26', '2017chicago', 'il2018', 'aaas', 'annual', 'meeting', 'february', '15', '19', '2018austin', 'txphiladelphia', 'pa', '24', '2017', 'maternal', 'infection', 'pregnancy', 'increases', 'risk', 'psychiatric', 'disorders', 'child', 'path', 'two', 'something', 'mystery', 'study', 'published', 'biological', 'psychiatry', 'senior', 'author', 'professor', 'urs', 'meyer', 'university', 'zurich', 'switzerland', 'colleagues', 'use', 'mouse', 'model', 'show', 'activation', 'mother', 'immune', 'system', 'may', 'cause', 'alterations', 'programming', 'offspring', 'genome', 'known', 'epigenetic', 'modifications', 'lead', 'behavioral', 'abnormalities', 'adulthood', 'study', 'suggests', 'immunologic', 'activation', 'may', 'connection', 'maternal', 'infection', 'epigenetic', 'changes', 'produce', 'lasting', 'changes', 'brain', 'development', 'said', 'john', 'krystal', 'editor', 'biological', 'findings', 'provide', 'new', 'insight', 'molecular', 'mechanisms', 'behind', 'risk', 'factor', 'alterations', 'found', 'specific', 'type', 'epigenetic', 'modification', 'called', 'dna', 'methylation', 'increasingly', 'implicated', 'origin', 'neurodevelopmental', 'disorders', 'altered', 'dna', 'methylation', 'appeared', 'throughout', 'offspring', 'genome', 'differed', 'based', 'timing', 'author', 'juliet', 'richetto', 'colleagues', 'induced', 'infection', 'pregnant', 'mouse', 'mothers', 'two', 'important', 'time', 'points', 'brain', 'development', 'offspring', 'early', 'late', 'gestation', 'immune', 'activation', 'time', 'points', 'produced', 'alterations', 'common', 'genes', 'associated', 'neurodevelopment', 'distinct', 'example', 'late', 'prenatal', 'infection', 'altered', 'methylation', 'genes', 'related', 'development', 'function', 'gaba', 'cells', 'whereas', 'earlier', 'exposure', 'disrupted', 'genes', 'important', 'wnt', 'signaling', 'pathway', 'fundamental', 'early', 'developmental', 'events', 'embryogenesis', 'findings', 'indicate', 'importance', 'timing', 'prenatal', 'immune', 'activation', 'suggest', 'earlier', 'infection', 'may', 'lead', 'serious', 'effects', 'neurodevelopment', 'another', 'intriguing', 'finding', 'study', 'pattern', 'dna', 'methylation', 'prenatally', 'infected', 'offspring', 'changes', 'time', 'said', 'meyer', 'noting', 'alterations', 'present', 'mice', 'reached', 'adulthood', 'observed', 'mice', 'born', 'according', 'meyer', 'findings', 'suggest', 'modifications', 'dynamic', 'likely', 'influenced', 'events', 'mice', 'age', 'adult', 'emergence', 'multiple', 'epigenetic', 'modifications', 'also', 'raises', 'clinically', 'relevant', 'question', 'whether', 'anomalies', 'could', 'attenuated', 'even', 'prevented', 'early', 'interventions', 'targeting', 'epigenetic', 'machinery', 'said', 'meyer', 'would', 'important', 'implications', 'researchers', 'found', 'modifications', 'functional', 'consequences', 'mrna', 'levels', 'genes', 'showing', 'differential', 'methylation', 'altered', 'offspring', 'indicating', 'epigenetic', 'changes', 'modulating', 'gene', 'expression', 'offspring', 'exhibited', 'cognitive', 'behavioral', 'abnormalities', 'present', 'animal', 'models', 'neurodevelopmental', 'disorders', 'schizophrenia', 'autism', 'suggesting', 'prenatal', 'infection', 'may', 'cause', 'methylation', 'abnormalities', 'disorders', 'thus', 'possibility', 'targeting', 'modifications', 'could', 'open', 'potential', 'avenue', 'preventative', 'treatments', 'people', 'exposed', 'prenatal', 'infection']\n",
      "source \t:\t Elsevier\n",
      "year \t:\t Tue, 24 Jan 2017 05:00:00 GMT\n",
      "date \t:\t 2018-01-19_20:59:26\n"
     ]
    }
   ],
   "source": [
    "# Press Release\n",
    "for ke, va in press_dat[25].__dict__().items():\n",
    "    print(ke, '\\t:\\t', va)"
   ]
  },
  {
   "cell_type": "markdown",
   "metadata": {},
   "source": [
    "### Pre-Processing"
   ]
  },
  {
   "cell_type": "code",
   "execution_count": null,
   "metadata": {
    "collapsed": true
   },
   "outputs": [],
   "source": [
    "# Collapse across all words in a given data type\n",
    "all_paper_words = get_all_words(paper_dat, 'words')\n",
    "all_press_words = get_all_words(press_dat, 'words')"
   ]
  },
  {
   "cell_type": "markdown",
   "metadata": {},
   "source": [
    "### NLTK "
   ]
  },
  {
   "cell_type": "code",
   "execution_count": null,
   "metadata": {},
   "outputs": [],
   "source": [
    "# Create and plot the frequency distribution of words - papers\n",
    "paper_fd = nltk.FreqDist(all_paper_words)\n",
    "paper_fd.plot(25)"
   ]
  },
  {
   "cell_type": "code",
   "execution_count": null,
   "metadata": {},
   "outputs": [],
   "source": [
    "# Create and plot the frequency distribution of words - PRs\n",
    "press_fd = nltk.FreqDist(all_press_words)\n",
    "press_fd.plot(25)"
   ]
  },
  {
   "cell_type": "markdown",
   "metadata": {},
   "source": [
    "### Inspecting Objects"
   ]
  },
  {
   "cell_type": "code",
   "execution_count": 12,
   "metadata": {},
   "outputs": [],
   "source": [
    "import inspect\n",
    "inspect.getmembers(press_dat[0])"
   ]
  },
  {
   "cell_type": "code",
   "execution_count": null,
   "metadata": {
    "collapsed": true
   },
   "outputs": [],
   "source": []
  }
 ],
 "metadata": {
  "kernelspec": {
   "display_name": "Python [conda root]",
   "language": "python",
   "name": "conda-root-py"
  },
  "language_info": {
   "codemirror_mode": {
    "name": "ipython",
    "version": 3
   },
   "file_extension": ".py",
   "mimetype": "text/x-python",
   "name": "python",
   "nbconvert_exporter": "python",
   "pygments_lexer": "ipython3",
   "version": "3.6.3"
  }
 },
 "nbformat": 4,
 "nbformat_minor": 2
}
