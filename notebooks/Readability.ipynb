{
 "cells": [
  {
   "cell_type": "markdown",
   "metadata": {},
   "source": [
    "# ConSciScanner - Readability in Py27\n",
    "\n",
    "This notebook should be run in a Python 2 environment.\n",
    "\n",
    "It also assumes 'textstat' is installed, which can be done with:\n",
    "\n",
    "$ pip install textstat"
   ]
  },
  {
   "cell_type": "code",
   "execution_count": 29,
   "metadata": {},
   "outputs": [],
   "source": [
    "%matplotlib inline\n",
    "\n",
    "import os\n",
    "\n",
    "import matplotlib.pyplot as plt\n",
    "\n",
    "# Import textstat\n",
    "from textstat.textstat import textstatistics\n",
    "\n",
    "# Import custom code\n",
    "from consc.data import load_folder"
   ]
  },
  {
   "cell_type": "code",
   "execution_count": 2,
   "metadata": {
    "collapsed": true
   },
   "outputs": [],
   "source": [
    "# Add paths for custom code & data\n",
    "base_path = os.path.dirname(os.getcwd())\n",
    "dat_path = os.path.join(base_path, 'Data')"
   ]
  },
  {
   "cell_type": "code",
   "execution_count": 17,
   "metadata": {},
   "outputs": [],
   "source": [
    "# Set term to analyze\n",
    "current_term = 'optogenetics'\n",
    "\n",
    "# Load the data\n",
    "paper_dat = load_folder('Papers', current_term, dat_path)\n",
    "press_dat = load_folder('PRs', current_term, dat_path)"
   ]
  },
  {
   "cell_type": "code",
   "execution_count": 5,
   "metadata": {
    "collapsed": true
   },
   "outputs": [],
   "source": [
    "# Initialize textstat object\n",
    "ts = textstatistics()"
   ]
  },
  {
   "cell_type": "code",
   "execution_count": 6,
   "metadata": {
    "collapsed": true
   },
   "outputs": [],
   "source": [
    "# Set an index to test run analysis on\n",
    "ind = 5"
   ]
  },
  {
   "cell_type": "code",
   "execution_count": 7,
   "metadata": {},
   "outputs": [
    {
     "name": "stdout",
     "output_type": "stream",
     "text": [
      "Syllable Count:\n",
      "332\n",
      "1396\n"
     ]
    }
   ],
   "source": [
    "print('Syllable Count:')\n",
    "print(ts.syllable_count(paper_dat[ind].text))\n",
    "print(ts.syllable_count(press_dat[ind].text))"
   ]
  },
  {
   "cell_type": "code",
   "execution_count": 8,
   "metadata": {},
   "outputs": [
    {
     "name": "stdout",
     "output_type": "stream",
     "text": [
      "Flesh-Kincaid Ease:\n",
      "20.72\n",
      "22.34\n"
     ]
    }
   ],
   "source": [
    "print('Flesh-Kincaid Ease:')\n",
    "print(ts.flesch_reading_ease(paper_dat[ind].text))\n",
    "print(ts.flesch_reading_ease(press_dat[ind].text))"
   ]
  },
  {
   "cell_type": "code",
   "execution_count": 9,
   "metadata": {},
   "outputs": [
    {
     "name": "stdout",
     "output_type": "stream",
     "text": [
      "Flesh-Kincaid Grade:\n",
      "16.6\n",
      "16.0\n"
     ]
    }
   ],
   "source": [
    "print('Flesh-Kincaid Grade:')\n",
    "print(ts.flesch_kincaid_grade(paper_dat[ind].text))\n",
    "print(ts.flesch_kincaid_grade(press_dat[ind].text))"
   ]
  },
  {
   "cell_type": "code",
   "execution_count": 10,
   "metadata": {},
   "outputs": [
    {
     "name": "stdout",
     "output_type": "stream",
     "text": [
      "Automated Readability Index:\n",
      "19.6\n",
      "18.7\n"
     ]
    }
   ],
   "source": [
    "print('Automated Readability Index:')\n",
    "print(ts.automated_readability_index(paper_dat[ind].text))\n",
    "print(ts.automated_readability_index(press_dat[ind].text))"
   ]
  },
  {
   "cell_type": "code",
   "execution_count": 11,
   "metadata": {},
   "outputs": [
    {
     "name": "stdout",
     "output_type": "stream",
     "text": [
      "Coleman Liau Index:\n",
      "18.11\n",
      "17.99\n"
     ]
    }
   ],
   "source": [
    "print('Coleman Liau Index:')\n",
    "print(ts.coleman_liau_index(paper_dat[ind].text))\n",
    "print(ts.coleman_liau_index(press_dat[ind].text))"
   ]
  },
  {
   "cell_type": "code",
   "execution_count": 12,
   "metadata": {},
   "outputs": [
    {
     "name": "stdout",
     "output_type": "stream",
     "text": [
      "Dale Chall Readability Score:\n",
      "11.19\n",
      "9.72\n"
     ]
    }
   ],
   "source": [
    "print('Dale Chall Readability Score:')\n",
    "print(ts.dale_chall_readability_score(paper_dat[ind].text))\n",
    "print(ts.dale_chall_readability_score(press_dat[ind].text))"
   ]
  },
  {
   "cell_type": "code",
   "execution_count": 13,
   "metadata": {},
   "outputs": [
    {
     "name": "stdout",
     "output_type": "stream",
     "text": [
      "Gunning Fog:\n",
      "28.0\n",
      "23.8198930481\n"
     ]
    }
   ],
   "source": [
    "print('Gunning Fog:')\n",
    "print(ts.gunning_fog(paper_dat[ind].text))\n",
    "print(ts.gunning_fog(press_dat[ind].text))"
   ]
  },
  {
   "cell_type": "code",
   "execution_count": 14,
   "metadata": {},
   "outputs": [
    {
     "name": "stdout",
     "output_type": "stream",
     "text": [
      "Smog Index:\n",
      "17.1\n",
      "17.1\n"
     ]
    }
   ],
   "source": [
    "print('Smog Index:')\n",
    "print(ts.smog_index(paper_dat[ind].text))\n",
    "print(ts.smog_index(press_dat[ind].text))"
   ]
  },
  {
   "cell_type": "code",
   "execution_count": 15,
   "metadata": {},
   "outputs": [
    {
     "name": "stdout",
     "output_type": "stream",
     "text": [
      "Linsear Write Formula:\n",
      "12.0\n",
      "12.8\n"
     ]
    }
   ],
   "source": [
    "print('Linsear Write Formula:')\n",
    "print(ts.linsear_write_formula(paper_dat[ind].text))\n",
    "print(ts.linsear_write_formula(press_dat[ind].text))"
   ]
  },
  {
   "cell_type": "code",
   "execution_count": 16,
   "metadata": {},
   "outputs": [
    {
     "name": "stdout",
     "output_type": "stream",
     "text": [
      "Consensus measure (text-standard):\n",
      "16th and 17th grade\n",
      "17th and 18th grade\n"
     ]
    }
   ],
   "source": [
    "print('Consensus measure (text-standard):')\n",
    "print(ts.text_standard(paper_dat[ind].text))\n",
    "print(ts.text_standard(press_dat[ind].text))"
   ]
  },
  {
   "cell_type": "code",
   "execution_count": 18,
   "metadata": {
    "collapsed": true
   },
   "outputs": [],
   "source": [
    "import numpy as np"
   ]
  },
  {
   "cell_type": "code",
   "execution_count": 19,
   "metadata": {
    "collapsed": true
   },
   "outputs": [],
   "source": [
    "np.save?"
   ]
  },
  {
   "cell_type": "code",
   "execution_count": 57,
   "metadata": {
    "collapsed": true
   },
   "outputs": [],
   "source": [
    "scripts_path = '/Users/tom/Documents/GitCode/Confidence_Scanner/scripts/'\n",
    "res_path = '/Users/tom/Documents/GitCode/Confidence_Scanner/scripts/results/'"
   ]
  },
  {
   "cell_type": "code",
   "execution_count": 58,
   "metadata": {
    "collapsed": true
   },
   "outputs": [],
   "source": [
    "with open(os.path.join(scripts_path, 'terms.txt'), 'r') as terms_file:\n",
    "    TERMS = terms_file.read().splitlines()"
   ]
  },
  {
   "cell_type": "code",
   "execution_count": 69,
   "metadata": {},
   "outputs": [
    {
     "name": "stdout",
     "output_type": "stream",
     "text": [
      "autism \n",
      "\tTtest_indResult(statistic=4.9223738167769575, pvalue=9.6658235110509902e-07)\n",
      "cognition \n",
      "\tTtest_indResult(statistic=5.6111718093014646, pvalue=2.4487389242729554e-08)\n",
      "consciousness \n",
      "\tTtest_indResult(statistic=0.32926276420775341, pvalue=0.74202383220437962)\n",
      "dementia \n",
      "\tTtest_indResult(statistic=1.2864528426010167, pvalue=0.19851098898620934)\n",
      "diabetes \n",
      "\tTtest_indResult(statistic=-7.4667183634819319, pvalue=1.1188876319226309e-13)\n",
      "epilepsy \n",
      "\tTtest_indResult(statistic=2.445728259901617, pvalue=0.014615212648374653)\n",
      "hypertension \n",
      "\tTtest_indResult(statistic=-5.0917652856513618, pvalue=4.094874511567631e-07)\n",
      "optogenetics \n",
      "\tTtest_indResult(statistic=6.7935918737002376, pvalue=2.4510943280399383e-11)\n",
      "perception \n",
      "\tTtest_indResult(statistic=2.024350850229002, pvalue=0.043091361509894885)\n",
      "stroke \n",
      "\tTtest_indResult(statistic=-7.0013047481808526, pvalue=3.4531671764364673e-12)\n",
      "vaccines \n",
      "\tTtest_indResult(statistic=6.0187530221426666, pvalue=2.2339675871675042e-09)\n"
     ]
    }
   ],
   "source": [
    "meas = 'ar'\n",
    "for term in TERMS:\n",
    "    d1 = np.load(os.path.join(res_path, term +  '_' + meas + '_papers.npy'))\n",
    "    d2 = np.load(os.path.join(res_path, term +  '_' + meas + '_press.npy'))\n",
    "    \n",
    "    print term, '\\n\\t', ttest_ind(d1, d2)\n",
    "#     plt.figure()\n",
    "#     plt.hist(d1, alpha=0.5);\n",
    "#     plt.hist(d2, alpha=0.5);"
   ]
  },
  {
   "cell_type": "code",
   "execution_count": 70,
   "metadata": {},
   "outputs": [],
   "source": [
    "term = 'vaccines'\n",
    "meas = 'ar'\n",
    "d1 = np.load(res_path + term +  '_' + meas + '_papers.npy')\n",
    "d2 = np.load(res_path + term +  '_' + meas + '_press.npy')"
   ]
  },
  {
   "cell_type": "code",
   "execution_count": 72,
   "metadata": {},
   "outputs": [
    {
     "name": "stdout",
     "output_type": "stream",
     "text": [
      "17.6593132154\n",
      "16.5530434783\n"
     ]
    }
   ],
   "source": [
    "print(np.mean(d1))\n",
    "print(np.mean(d2))"
   ]
  },
  {
   "cell_type": "code",
   "execution_count": 71,
   "metadata": {},
   "outputs": [
    {
     "data": {
      "image/png": "[encoded data removed]",
      "text/plain": [
       "<matplotlib.figure.Figure at 0x121fcde10>"
      ]
     },
     "metadata": {},
     "output_type": "display_data"
    }
   ],
   "source": [
    "plt.hist(d1, alpha=0.5);\n",
    "plt.hist(d2, alpha=0.5);"
   ]
  },
  {
   "cell_type": "code",
   "execution_count": 35,
   "metadata": {
    "collapsed": true
   },
   "outputs": [],
   "source": [
    "from scipy.stats import ttest_ind"
   ]
  },
  {
   "cell_type": "code",
   "execution_count": 36,
   "metadata": {},
   "outputs": [
    {
     "data": {
      "text/plain": [
       "Ttest_indResult(statistic=6.9260580781303362, pvalue=6.5398842854581966e-12)"
      ]
     },
     "execution_count": 36,
     "metadata": {},
     "output_type": "execute_result"
    }
   ],
   "source": [
    "ttest_ind(d1, d2)"
   ]
  },
  {
   "cell_type": "markdown",
   "metadata": {},
   "source": [
    "### Data using dataframes"
   ]
  },
  {
   "cell_type": "code",
   "execution_count": 130,
   "metadata": {
    "collapsed": true
   },
   "outputs": [],
   "source": [
    "import pandas as pd"
   ]
  },
  {
   "cell_type": "code",
   "execution_count": 133,
   "metadata": {},
   "outputs": [],
   "source": [
    "df_prs = pd.read_csv(os.path.join(scripts_path, 'results', 'PRs_readability.csv'))\n",
    "df_pap = pd.read_csv(os.path.join(scripts_path, 'results', 'Papers_readability.csv'))"
   ]
  },
  {
   "cell_type": "code",
   "execution_count": 135,
   "metadata": {},
   "outputs": [
    {
     "data": {
      "text/html": [
       "<div>\n",
       "<style>\n",
       "    .dataframe thead tr:only-child th {\n",
       "        text-align: right;\n",
       "    }\n",
       "\n",
       "    .dataframe thead th {\n",
       "        text-align: left;\n",
       "    }\n",
       "\n",
       "    .dataframe tbody tr th {\n",
       "        vertical-align: top;\n",
       "    }\n",
       "</style>\n",
       "<table border=\"1\" class=\"dataframe\">\n",
       "  <thead>\n",
       "    <tr style=\"text-align: right;\">\n",
       "      <th></th>\n",
       "      <th>term</th>\n",
       "      <th>fk</th>\n",
       "      <th>smog</th>\n",
       "      <th>consen</th>\n",
       "      <th>ar</th>\n",
       "    </tr>\n",
       "  </thead>\n",
       "  <tbody>\n",
       "    <tr>\n",
       "      <th>0</th>\n",
       "      <td>vaccines</td>\n",
       "      <td>11.5</td>\n",
       "      <td>14.1</td>\n",
       "      <td>14th and 15th grade</td>\n",
       "      <td>14.7</td>\n",
       "    </tr>\n",
       "    <tr>\n",
       "      <th>1</th>\n",
       "      <td>vaccines</td>\n",
       "      <td>16.4</td>\n",
       "      <td>16.6</td>\n",
       "      <td>16th and 17th grade</td>\n",
       "      <td>18.8</td>\n",
       "    </tr>\n",
       "    <tr>\n",
       "      <th>2</th>\n",
       "      <td>vaccines</td>\n",
       "      <td>14.0</td>\n",
       "      <td>16.0</td>\n",
       "      <td>17th and 18th grade</td>\n",
       "      <td>17.7</td>\n",
       "    </tr>\n",
       "    <tr>\n",
       "      <th>3</th>\n",
       "      <td>vaccines</td>\n",
       "      <td>13.3</td>\n",
       "      <td>14.0</td>\n",
       "      <td>15th and 16th grade</td>\n",
       "      <td>16.4</td>\n",
       "    </tr>\n",
       "    <tr>\n",
       "      <th>4</th>\n",
       "      <td>vaccines</td>\n",
       "      <td>14.8</td>\n",
       "      <td>15.9</td>\n",
       "      <td>17th and 18th grade</td>\n",
       "      <td>17.3</td>\n",
       "    </tr>\n",
       "  </tbody>\n",
       "</table>\n",
       "</div>"
      ],
      "text/plain": [
       "       term    fk  smog               consen    ar\n",
       "0  vaccines  11.5  14.1  14th and 15th grade  14.7\n",
       "1  vaccines  16.4  16.6  16th and 17th grade  18.8\n",
       "2  vaccines  14.0  16.0  17th and 18th grade  17.7\n",
       "3  vaccines  13.3  14.0  15th and 16th grade  16.4\n",
       "4  vaccines  14.8  15.9  17th and 18th grade  17.3"
      ]
     },
     "execution_count": 135,
     "metadata": {},
     "output_type": "execute_result"
    }
   ],
   "source": [
    "df_prs.head()"
   ]
  },
  {
   "cell_type": "code",
   "execution_count": 136,
   "metadata": {},
   "outputs": [
    {
     "data": {
      "text/html": [
       "<div>\n",
       "<style>\n",
       "    .dataframe thead tr:only-child th {\n",
       "        text-align: right;\n",
       "    }\n",
       "\n",
       "    .dataframe thead th {\n",
       "        text-align: left;\n",
       "    }\n",
       "\n",
       "    .dataframe tbody tr th {\n",
       "        vertical-align: top;\n",
       "    }\n",
       "</style>\n",
       "<table border=\"1\" class=\"dataframe\">\n",
       "  <thead>\n",
       "    <tr style=\"text-align: right;\">\n",
       "      <th></th>\n",
       "      <th>fk</th>\n",
       "      <th>smog</th>\n",
       "      <th>ar</th>\n",
       "    </tr>\n",
       "    <tr>\n",
       "      <th>term</th>\n",
       "      <th></th>\n",
       "      <th></th>\n",
       "      <th></th>\n",
       "    </tr>\n",
       "  </thead>\n",
       "  <tbody>\n",
       "    <tr>\n",
       "      <th>autism</th>\n",
       "      <td>13.894753</td>\n",
       "      <td>15.287037</td>\n",
       "      <td>17.039198</td>\n",
       "    </tr>\n",
       "    <tr>\n",
       "      <th>vaccines</th>\n",
       "      <td>13.428913</td>\n",
       "      <td>14.900000</td>\n",
       "      <td>16.553043</td>\n",
       "    </tr>\n",
       "  </tbody>\n",
       "</table>\n",
       "</div>"
      ],
      "text/plain": [
       "                 fk       smog         ar\n",
       "term                                     \n",
       "autism    13.894753  15.287037  17.039198\n",
       "vaccines  13.428913  14.900000  16.553043"
      ]
     },
     "execution_count": 136,
     "metadata": {},
     "output_type": "execute_result"
    }
   ],
   "source": [
    "df_prs.groupby('term').mean()"
   ]
  },
  {
   "cell_type": "code",
   "execution_count": 137,
   "metadata": {},
   "outputs": [
    {
     "data": {
      "text/html": [
       "<div>\n",
       "<style>\n",
       "    .dataframe thead tr:only-child th {\n",
       "        text-align: right;\n",
       "    }\n",
       "\n",
       "    .dataframe thead th {\n",
       "        text-align: left;\n",
       "    }\n",
       "\n",
       "    .dataframe tbody tr th {\n",
       "        vertical-align: top;\n",
       "    }\n",
       "</style>\n",
       "<table border=\"1\" class=\"dataframe\">\n",
       "  <thead>\n",
       "    <tr style=\"text-align: right;\">\n",
       "      <th></th>\n",
       "      <th>fk</th>\n",
       "      <th>smog</th>\n",
       "      <th>ar</th>\n",
       "    </tr>\n",
       "    <tr>\n",
       "      <th>term</th>\n",
       "      <th></th>\n",
       "      <th></th>\n",
       "      <th></th>\n",
       "    </tr>\n",
       "  </thead>\n",
       "  <tbody>\n",
       "    <tr>\n",
       "      <th>autism</th>\n",
       "      <td>14.839226</td>\n",
       "      <td>16.020816</td>\n",
       "      <td>18.008159</td>\n",
       "    </tr>\n",
       "    <tr>\n",
       "      <th>vaccines</th>\n",
       "      <td>14.464516</td>\n",
       "      <td>15.854735</td>\n",
       "      <td>17.659313</td>\n",
       "    </tr>\n",
       "  </tbody>\n",
       "</table>\n",
       "</div>"
      ],
      "text/plain": [
       "                 fk       smog         ar\n",
       "term                                     \n",
       "autism    14.839226  16.020816  18.008159\n",
       "vaccines  14.464516  15.854735  17.659313"
      ]
     },
     "execution_count": 137,
     "metadata": {},
     "output_type": "execute_result"
    }
   ],
   "source": [
    "df_pap.groupby('term').mean()"
   ]
  },
  {
   "cell_type": "code",
   "execution_count": 138,
   "metadata": {},
   "outputs": [
    {
     "data": {
      "image/png": "[encoded data removed]",
      "text/plain": [
       "<matplotlib.figure.Figure at 0x123cc1490>"
      ]
     },
     "metadata": {},
     "output_type": "display_data"
    }
   ],
   "source": [
    "# Check plots of results\n",
    "pd.plotting.scatter_matrix(df_prs[['fk', 'smog', 'ar']]);"
   ]
  },
  {
   "cell_type": "code",
   "execution_count": 139,
   "metadata": {},
   "outputs": [
    {
     "data": {
      "image/png": "[encoded data removed]",
      "text/plain": [
       "<matplotlib.figure.Figure at 0x11c431610>"
      ]
     },
     "metadata": {},
     "output_type": "display_data"
    }
   ],
   "source": [
    "# Check plots of results\n",
    "pd.plotting.scatter_matrix(df_pap[['fk', 'smog', 'ar']]);"
   ]
  },
  {
   "cell_type": "code",
   "execution_count": 140,
   "metadata": {},
   "outputs": [
    {
     "name": "stdout",
     "output_type": "stream",
     "text": [
      "            fk      smog        ar\n",
      "fk    1.000000  0.922857  0.767042\n",
      "smog  0.922857  1.000000  0.639938\n",
      "ar    0.767042  0.639938  1.000000\n"
     ]
    }
   ],
   "source": [
    "# Check the correlations\n",
    "corrs = df_prs[['fk', 'smog', 'ar']].corr()\n",
    "print(corrs)"
   ]
  },
  {
   "cell_type": "code",
   "execution_count": 141,
   "metadata": {},
   "outputs": [
    {
     "name": "stdout",
     "output_type": "stream",
     "text": [
      "            fk      smog        ar\n",
      "fk    1.000000  0.771774  0.909872\n",
      "smog  0.771774  1.000000  0.640153\n",
      "ar    0.909872  0.640153  1.000000\n"
     ]
    }
   ],
   "source": [
    "# Check the correlations\n",
    "corrs = df_pap[['fk', 'smog', 'ar']].corr()\n",
    "print(corrs)"
   ]
  },
  {
   "cell_type": "code",
   "execution_count": null,
   "metadata": {
    "collapsed": true
   },
   "outputs": [],
   "source": []
  }
 ],
 "metadata": {
  "kernelspec": {
   "display_name": "Python [conda env:py27]",
   "language": "python",
   "name": "conda-env-py27-py"
  },
  "language_info": {
   "codemirror_mode": {
    "name": "ipython",
    "version": 2
   },
   "file_extension": ".py",
   "mimetype": "text/x-python",
   "name": "python",
   "nbconvert_exporter": "python",
   "pygments_lexer": "ipython2",
   "version": "2.7.13"
  }
 },
 "nbformat": 4,
 "nbformat_minor": 2
}
