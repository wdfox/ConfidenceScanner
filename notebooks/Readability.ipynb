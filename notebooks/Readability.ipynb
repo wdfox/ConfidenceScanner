{
 "cells": [
  {
   "cell_type": "markdown",
   "metadata": {},
   "source": [
    "# ConSciScanner - Readability in Py27\n",
    "\n",
    "This notebook should be run in a Python 2 environment.\n",
    "\n",
    "It also assumes 'textstat' is installed, which can be done with:\n",
    "\n",
    "$ pip install textstat"
   ]
  },
  {
   "cell_type": "code",
   "execution_count": 75,
   "metadata": {
    "collapsed": true
   },
   "outputs": [],
   "source": [
    "import os\n",
    "\n",
    "# Import textstat\n",
    "from textstat.textstat import textstatistics\n",
    "\n",
    "# Import custom code\n",
    "from consc.data import load_folder"
   ]
  },
  {
   "cell_type": "code",
   "execution_count": 76,
   "metadata": {},
   "outputs": [],
   "source": [
    "# Add paths for custom code & data\n",
    "base_path = os.path.dirname(os.getcwd())\n",
    "dat_path = os.path.join(base_path, 'Data')"
   ]
  },
  {
   "cell_type": "code",
   "execution_count": 77,
   "metadata": {
    "collapsed": true
   },
   "outputs": [],
   "source": [
    "# Set term to analyze\n",
    "current_term = 'autism'\n",
    "\n",
    "# Load the data\n",
    "paper_dat = load_folder('Papers', current_term, dat_path)\n",
    "press_dat = load_folder('PRs', current_term, dat_path)"
   ]
  },
  {
   "cell_type": "code",
   "execution_count": 78,
   "metadata": {
    "collapsed": true
   },
   "outputs": [],
   "source": [
    "# Initialize textstat object\n",
    "ts = textstatistics()"
   ]
  },
  {
   "cell_type": "code",
   "execution_count": 79,
   "metadata": {
    "collapsed": true
   },
   "outputs": [],
   "source": [
    "# Set an index to test run analysis on\n",
    "ind = 5"
   ]
  },
  {
   "cell_type": "code",
   "execution_count": 80,
   "metadata": {},
   "outputs": [
    {
     "name": "stdout",
     "output_type": "stream",
     "text": [
      "Syllable Count:\n",
      "653\n",
      "1099\n"
     ]
    }
   ],
   "source": [
    "print('Syllable Count:')\n",
    "print(ts.syllable_count(paper_dat[ind].text))\n",
    "print(ts.syllable_count(press_dat[ind].text))"
   ]
  },
  {
   "cell_type": "code",
   "execution_count": 81,
   "metadata": {},
   "outputs": [
    {
     "name": "stdout",
     "output_type": "stream",
     "text": [
      "Flesh-Kincaid Ease:\n",
      "19.91\n",
      "47.32\n"
     ]
    }
   ],
   "source": [
    "print('Flesh-Kincaid Ease:')\n",
    "print(ts.flesch_reading_ease(paper_dat[ind].text))\n",
    "print(ts.flesch_reading_ease(press_dat[ind].text))"
   ]
  },
  {
   "cell_type": "code",
   "execution_count": 82,
   "metadata": {},
   "outputs": [
    {
     "name": "stdout",
     "output_type": "stream",
     "text": [
      "Flesh-Kincaid Grade:\n",
      "16.9\n",
      "12.6\n"
     ]
    }
   ],
   "source": [
    "print('Flesh-Kincaid Grade:')\n",
    "print(ts.flesch_kincaid_grade(paper_dat[ind].text))\n",
    "print(ts.flesch_kincaid_grade(press_dat[ind].text))"
   ]
  },
  {
   "cell_type": "code",
   "execution_count": 83,
   "metadata": {},
   "outputs": [
    {
     "name": "stdout",
     "output_type": "stream",
     "text": [
      "Automated Readability Index:\n",
      "20.8\n",
      "15.4\n"
     ]
    }
   ],
   "source": [
    "print('Automated Readability Index:')\n",
    "print(ts.automated_readability_index(paper_dat[ind].text))\n",
    "print(ts.automated_readability_index(press_dat[ind].text))"
   ]
  },
  {
   "cell_type": "code",
   "execution_count": 84,
   "metadata": {},
   "outputs": [
    {
     "name": "stdout",
     "output_type": "stream",
     "text": [
      "Coleman Liau Index:\n",
      "19.21\n",
      "13.7\n"
     ]
    }
   ],
   "source": [
    "print('Coleman Liau Index:')\n",
    "print(ts.coleman_liau_index(paper_dat[ind].text))\n",
    "print(ts.coleman_liau_index(press_dat[ind].text))"
   ]
  },
  {
   "cell_type": "code",
   "execution_count": 85,
   "metadata": {},
   "outputs": [
    {
     "name": "stdout",
     "output_type": "stream",
     "text": [
      "Dale Chall Readability Score:\n",
      "9.72\n",
      "8.78\n"
     ]
    }
   ],
   "source": [
    "print('Dale Chall Readability Score:')\n",
    "print(ts.dale_chall_readability_score(paper_dat[ind].text))\n",
    "print(ts.dale_chall_readability_score(press_dat[ind].text))"
   ]
  },
  {
   "cell_type": "code",
   "execution_count": 86,
   "metadata": {},
   "outputs": [
    {
     "name": "stdout",
     "output_type": "stream",
     "text": [
      "Gunning Fog:\n",
      "24.4991044776\n",
      "21.5635413643\n"
     ]
    }
   ],
   "source": [
    "print('Gunning Fog:')\n",
    "print(ts.gunning_fog(paper_dat[ind].text))\n",
    "print(ts.gunning_fog(press_dat[ind].text))"
   ]
  },
  {
   "cell_type": "code",
   "execution_count": 87,
   "metadata": {},
   "outputs": [
    {
     "name": "stdout",
     "output_type": "stream",
     "text": [
      "Smog Index:\n",
      "19.1\n",
      "13.7\n"
     ]
    }
   ],
   "source": [
    "print('Smog Index:')\n",
    "print(ts.smog_index(paper_dat[ind].text))\n",
    "print(ts.smog_index(press_dat[ind].text))"
   ]
  },
  {
   "cell_type": "code",
   "execution_count": 88,
   "metadata": {},
   "outputs": [
    {
     "name": "stdout",
     "output_type": "stream",
     "text": [
      "Linsear Write Formula:\n",
      "11.25\n",
      "13.25\n"
     ]
    }
   ],
   "source": [
    "print('Linsear Write Formula:')\n",
    "print(ts.linsear_write_formula(paper_dat[ind].text))\n",
    "print(ts.linsear_write_formula(press_dat[ind].text))"
   ]
  },
  {
   "cell_type": "code",
   "execution_count": 89,
   "metadata": {},
   "outputs": [
    {
     "name": "stdout",
     "output_type": "stream",
     "text": [
      "Consensus measure (text-standard):\n",
      "20th and 21th grade\n",
      "13th and 14th grade\n"
     ]
    }
   ],
   "source": [
    "print('Consensus measure (text-standard):')\n",
    "print(ts.text_standard(paper_dat[ind].text))\n",
    "print(ts.text_standard(press_dat[ind].text))"
   ]
  }
 ],
 "metadata": {
  "kernelspec": {
   "display_name": "Python 2",
   "language": "python",
   "name": "python2"
  },
  "language_info": {
   "codemirror_mode": {
    "name": "ipython",
    "version": 2
   },
   "file_extension": ".py",
   "mimetype": "text/x-python",
   "name": "python",
   "nbconvert_exporter": "python",
   "pygments_lexer": "ipython2",
   "version": "2.7.13"
  }
 },
 "nbformat": 4,
 "nbformat_minor": 2
}
