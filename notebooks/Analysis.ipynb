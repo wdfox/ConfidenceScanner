{
 "cells": [
  {
   "cell_type": "markdown",
   "metadata": {},
   "source": [
    "# Analysis"
   ]
  },
  {
   "cell_type": "code",
   "execution_count": 1,
   "metadata": {
    "collapsed": true
   },
   "outputs": [],
   "source": [
    "%matplotlib inline\n",
    "\n",
    "import os\n",
    "import pandas as pd\n",
    "import matplotlib.pyplot as plt"
   ]
  },
  {
   "cell_type": "code",
   "execution_count": 2,
   "metadata": {
    "collapsed": true
   },
   "outputs": [],
   "source": [
    "# Set path to load files from\n",
    "res_path = '/Users/tom/Documents/GitCode/Confidence_Scanner/scripts/results/'"
   ]
  },
  {
   "cell_type": "code",
   "execution_count": 3,
   "metadata": {},
   "outputs": [],
   "source": [
    "# Load files\n",
    "dfs = []\n",
    "for dat_type in ['Papers', 'PRs']:\n",
    "    \n",
    "    d1 = pd.read_csv(os.path.join(res_path, dat_type + '_readability.csv'))\n",
    "    d2 = pd.read_csv(os.path.join(res_path, dat_type + '_analysis.csv'))\n",
    "    \n",
    "    # Merge dataframes\n",
    "    df = pd.merge(d1, d2, on=['id', 'term'])\n",
    "    df['dat_type'] = dat_type\n",
    "    \n",
    "    dfs.append(df)"
   ]
  },
  {
   "cell_type": "code",
   "execution_count": 17,
   "metadata": {},
   "outputs": [],
   "source": [
    "# Combine into one joint df, with all data (papers and press releases)\n",
    "df = pd.concat(dfs)"
   ]
  },
  {
   "cell_type": "code",
   "execution_count": 18,
   "metadata": {},
   "outputs": [],
   "source": [
    "# Clean up df\n",
    "df.set_index('id', inplace=True)\n",
    "df.drop('Unnamed: 0', axis=1, inplace=True)\n",
    "\n",
    "# Drop currently empty columns\n",
    "df.drop('liu', axis=1, inplace=True)\n",
    "df.drop('subj', axis=1, inplace=True)"
   ]
  },
  {
   "cell_type": "code",
   "execution_count": 19,
   "metadata": {},
   "outputs": [
    {
     "data": {
      "text/html": [
       "<div>\n",
       "<style>\n",
       "    .dataframe thead tr:only-child th {\n",
       "        text-align: right;\n",
       "    }\n",
       "\n",
       "    .dataframe thead th {\n",
       "        text-align: left;\n",
       "    }\n",
       "\n",
       "    .dataframe tbody tr th {\n",
       "        vertical-align: top;\n",
       "    }\n",
       "</style>\n",
       "<table border=\"1\" class=\"dataframe\">\n",
       "  <thead>\n",
       "    <tr style=\"text-align: right;\">\n",
       "      <th></th>\n",
       "      <th>term</th>\n",
       "      <th>fk</th>\n",
       "      <th>smog</th>\n",
       "      <th>consen</th>\n",
       "      <th>ar</th>\n",
       "      <th>vader</th>\n",
       "      <th>liwc</th>\n",
       "      <th>dat_type</th>\n",
       "    </tr>\n",
       "    <tr>\n",
       "      <th>id</th>\n",
       "      <th></th>\n",
       "      <th></th>\n",
       "      <th></th>\n",
       "      <th></th>\n",
       "      <th></th>\n",
       "      <th></th>\n",
       "      <th></th>\n",
       "      <th></th>\n",
       "    </tr>\n",
       "  </thead>\n",
       "  <tbody>\n",
       "    <tr>\n",
       "      <th>29373119</th>\n",
       "      <td>autism</td>\n",
       "      <td>15.2</td>\n",
       "      <td>16.6</td>\n",
       "      <td>16th and 17th grade</td>\n",
       "      <td>18.2</td>\n",
       "      <td>1.0194</td>\n",
       "      <td>6</td>\n",
       "      <td>Papers</td>\n",
       "    </tr>\n",
       "    <tr>\n",
       "      <th>29369294</th>\n",
       "      <td>autism</td>\n",
       "      <td>17.7</td>\n",
       "      <td>18.2</td>\n",
       "      <td>17th and 18th grade</td>\n",
       "      <td>22.2</td>\n",
       "      <td>-2.5924</td>\n",
       "      <td>6</td>\n",
       "      <td>Papers</td>\n",
       "    </tr>\n",
       "    <tr>\n",
       "      <th>29367178</th>\n",
       "      <td>autism</td>\n",
       "      <td>13.1</td>\n",
       "      <td>15.1</td>\n",
       "      <td>15th and 16th grade</td>\n",
       "      <td>14.8</td>\n",
       "      <td>0.9111</td>\n",
       "      <td>8</td>\n",
       "      <td>Papers</td>\n",
       "    </tr>\n",
       "    <tr>\n",
       "      <th>29361396</th>\n",
       "      <td>autism</td>\n",
       "      <td>19.8</td>\n",
       "      <td>21.3</td>\n",
       "      <td>17th and 18th grade</td>\n",
       "      <td>23.7</td>\n",
       "      <td>-0.9329</td>\n",
       "      <td>0</td>\n",
       "      <td>Papers</td>\n",
       "    </tr>\n",
       "    <tr>\n",
       "      <th>29358944</th>\n",
       "      <td>autism</td>\n",
       "      <td>16.5</td>\n",
       "      <td>17.3</td>\n",
       "      <td>16th and 17th grade</td>\n",
       "      <td>18.5</td>\n",
       "      <td>0.0173</td>\n",
       "      <td>6</td>\n",
       "      <td>Papers</td>\n",
       "    </tr>\n",
       "  </tbody>\n",
       "</table>\n",
       "</div>"
      ],
      "text/plain": [
       "            term    fk  smog               consen    ar   vader  liwc dat_type\n",
       "id                                                                            \n",
       "29373119  autism  15.2  16.6  16th and 17th grade  18.2  1.0194     6   Papers\n",
       "29369294  autism  17.7  18.2  17th and 18th grade  22.2 -2.5924     6   Papers\n",
       "29367178  autism  13.1  15.1  15th and 16th grade  14.8  0.9111     8   Papers\n",
       "29361396  autism  19.8  21.3  17th and 18th grade  23.7 -0.9329     0   Papers\n",
       "29358944  autism  16.5  17.3  16th and 17th grade  18.5  0.0173     6   Papers"
      ]
     },
     "execution_count": 19,
     "metadata": {},
     "output_type": "execute_result"
    }
   ],
   "source": [
    "# Check out a few rows\n",
    "df.head()"
   ]
  },
  {
   "cell_type": "code",
   "execution_count": 7,
   "metadata": {},
   "outputs": [
    {
     "data": {
      "text/plain": [
       "Papers    9913\n",
       "PRs       5701\n",
       "Name: dat_type, dtype: int64"
      ]
     },
     "execution_count": 7,
     "metadata": {},
     "output_type": "execute_result"
    }
   ],
   "source": [
    "# Check how many there are of each data type\n",
    "df['dat_type'].value_counts()"
   ]
  },
  {
   "cell_type": "code",
   "execution_count": 20,
   "metadata": {},
   "outputs": [
    {
     "data": {
      "text/plain": [
       "diabetes         2577\n",
       "stroke           1994\n",
       "perception       1689\n",
       "vaccines         1421\n",
       "dementia         1320\n",
       "cognition        1314\n",
       "autism           1280\n",
       "hypertension     1245\n",
       "epilepsy         1079\n",
       "consciousness    1035\n",
       "optogenetics      660\n",
       "Name: term, dtype: int64"
      ]
     },
     "execution_count": 20,
     "metadata": {},
     "output_type": "execute_result"
    }
   ],
   "source": [
    "# Check how many documents there are for each term\n",
    "df['term'].value_counts()"
   ]
  },
  {
   "cell_type": "code",
   "execution_count": 21,
   "metadata": {},
   "outputs": [
    {
     "data": {
      "text/plain": [
       "dat_type  term         \n",
       "PRs       autism            324\n",
       "          cognition         348\n",
       "          consciousness      81\n",
       "          dementia          393\n",
       "          diabetes         1707\n",
       "          epilepsy          202\n",
       "          hypertension      339\n",
       "          optogenetics       54\n",
       "          perception        709\n",
       "          stroke           1084\n",
       "          vaccines          460\n",
       "Papers    autism            956\n",
       "          cognition         966\n",
       "          consciousness     954\n",
       "          dementia          927\n",
       "          diabetes          870\n",
       "          epilepsy          877\n",
       "          hypertension      906\n",
       "          optogenetics      606\n",
       "          perception        980\n",
       "          stroke            910\n",
       "          vaccines          961\n",
       "dtype: int64"
      ]
     },
     "execution_count": 21,
     "metadata": {},
     "output_type": "execute_result"
    }
   ],
   "source": [
    "# Check how many of each document there are, split up by document type and term\n",
    "df.groupby(['dat_type', 'term']).size()"
   ]
  },
  {
   "cell_type": "code",
   "execution_count": 22,
   "metadata": {},
   "outputs": [
    {
     "data": {
      "text/html": [
       "<div>\n",
       "<style>\n",
       "    .dataframe thead tr:only-child th {\n",
       "        text-align: right;\n",
       "    }\n",
       "\n",
       "    .dataframe thead th {\n",
       "        text-align: left;\n",
       "    }\n",
       "\n",
       "    .dataframe tbody tr th {\n",
       "        vertical-align: top;\n",
       "    }\n",
       "</style>\n",
       "<table border=\"1\" class=\"dataframe\">\n",
       "  <thead>\n",
       "    <tr style=\"text-align: right;\">\n",
       "      <th></th>\n",
       "      <th>fk</th>\n",
       "      <th>smog</th>\n",
       "      <th>ar</th>\n",
       "      <th>vader</th>\n",
       "      <th>liwc</th>\n",
       "    </tr>\n",
       "  </thead>\n",
       "  <tbody>\n",
       "    <tr>\n",
       "      <th>count</th>\n",
       "      <td>15614.000000</td>\n",
       "      <td>15614.000000</td>\n",
       "      <td>15614.000000</td>\n",
       "      <td>15614.000000</td>\n",
       "      <td>15614.000000</td>\n",
       "    </tr>\n",
       "    <tr>\n",
       "      <th>mean</th>\n",
       "      <td>13.951383</td>\n",
       "      <td>15.322333</td>\n",
       "      <td>17.077732</td>\n",
       "      <td>0.663462</td>\n",
       "      <td>3.640387</td>\n",
       "    </tr>\n",
       "    <tr>\n",
       "      <th>std</th>\n",
       "      <td>2.868373</td>\n",
       "      <td>2.429624</td>\n",
       "      <td>3.350152</td>\n",
       "      <td>2.662940</td>\n",
       "      <td>5.440099</td>\n",
       "    </tr>\n",
       "    <tr>\n",
       "      <th>min</th>\n",
       "      <td>-3.500000</td>\n",
       "      <td>0.000000</td>\n",
       "      <td>2.100000</td>\n",
       "      <td>-15.723300</td>\n",
       "      <td>-30.000000</td>\n",
       "    </tr>\n",
       "    <tr>\n",
       "      <th>25%</th>\n",
       "      <td>12.200000</td>\n",
       "      <td>14.000000</td>\n",
       "      <td>15.000000</td>\n",
       "      <td>-0.656400</td>\n",
       "      <td>0.000000</td>\n",
       "    </tr>\n",
       "    <tr>\n",
       "      <th>50%</th>\n",
       "      <td>13.900000</td>\n",
       "      <td>15.300000</td>\n",
       "      <td>17.000000</td>\n",
       "      <td>0.547100</td>\n",
       "      <td>3.000000</td>\n",
       "    </tr>\n",
       "    <tr>\n",
       "      <th>75%</th>\n",
       "      <td>15.700000</td>\n",
       "      <td>16.800000</td>\n",
       "      <td>19.000000</td>\n",
       "      <td>1.828325</td>\n",
       "      <td>6.000000</td>\n",
       "    </tr>\n",
       "    <tr>\n",
       "      <th>max</th>\n",
       "      <td>54.800000</td>\n",
       "      <td>26.200000</td>\n",
       "      <td>68.500000</td>\n",
       "      <td>40.804400</td>\n",
       "      <td>47.000000</td>\n",
       "    </tr>\n",
       "  </tbody>\n",
       "</table>\n",
       "</div>"
      ],
      "text/plain": [
       "                 fk          smog            ar         vader          liwc\n",
       "count  15614.000000  15614.000000  15614.000000  15614.000000  15614.000000\n",
       "mean      13.951383     15.322333     17.077732      0.663462      3.640387\n",
       "std        2.868373      2.429624      3.350152      2.662940      5.440099\n",
       "min       -3.500000      0.000000      2.100000    -15.723300    -30.000000\n",
       "25%       12.200000     14.000000     15.000000     -0.656400      0.000000\n",
       "50%       13.900000     15.300000     17.000000      0.547100      3.000000\n",
       "75%       15.700000     16.800000     19.000000      1.828325      6.000000\n",
       "max       54.800000     26.200000     68.500000     40.804400     47.000000"
      ]
     },
     "execution_count": 22,
     "metadata": {},
     "output_type": "execute_result"
    }
   ],
   "source": [
    "# Descriptive statistics\n",
    "df.describe()"
   ]
  },
  {
   "cell_type": "code",
   "execution_count": 23,
   "metadata": {},
   "outputs": [
    {
     "data": {
      "text/html": [
       "<div>\n",
       "<style>\n",
       "    .dataframe thead tr:only-child th {\n",
       "        text-align: right;\n",
       "    }\n",
       "\n",
       "    .dataframe thead th {\n",
       "        text-align: left;\n",
       "    }\n",
       "\n",
       "    .dataframe tbody tr th {\n",
       "        vertical-align: top;\n",
       "    }\n",
       "</style>\n",
       "<table border=\"1\" class=\"dataframe\">\n",
       "  <thead>\n",
       "    <tr style=\"text-align: right;\">\n",
       "      <th></th>\n",
       "      <th>fk</th>\n",
       "      <th>smog</th>\n",
       "      <th>ar</th>\n",
       "      <th>vader</th>\n",
       "      <th>liwc</th>\n",
       "    </tr>\n",
       "  </thead>\n",
       "  <tbody>\n",
       "    <tr>\n",
       "      <th>fk</th>\n",
       "      <td>1.000000</td>\n",
       "      <td>0.792929</td>\n",
       "      <td>0.892520</td>\n",
       "      <td>0.053839</td>\n",
       "      <td>-0.014694</td>\n",
       "    </tr>\n",
       "    <tr>\n",
       "      <th>smog</th>\n",
       "      <td>0.792929</td>\n",
       "      <td>1.000000</td>\n",
       "      <td>0.665313</td>\n",
       "      <td>0.060999</td>\n",
       "      <td>0.006387</td>\n",
       "    </tr>\n",
       "    <tr>\n",
       "      <th>ar</th>\n",
       "      <td>0.892520</td>\n",
       "      <td>0.665313</td>\n",
       "      <td>1.000000</td>\n",
       "      <td>0.045978</td>\n",
       "      <td>-0.009467</td>\n",
       "    </tr>\n",
       "    <tr>\n",
       "      <th>vader</th>\n",
       "      <td>0.053839</td>\n",
       "      <td>0.060999</td>\n",
       "      <td>0.045978</td>\n",
       "      <td>1.000000</td>\n",
       "      <td>0.171066</td>\n",
       "    </tr>\n",
       "    <tr>\n",
       "      <th>liwc</th>\n",
       "      <td>-0.014694</td>\n",
       "      <td>0.006387</td>\n",
       "      <td>-0.009467</td>\n",
       "      <td>0.171066</td>\n",
       "      <td>1.000000</td>\n",
       "    </tr>\n",
       "  </tbody>\n",
       "</table>\n",
       "</div>"
      ],
      "text/plain": [
       "             fk      smog        ar     vader      liwc\n",
       "fk     1.000000  0.792929  0.892520  0.053839 -0.014694\n",
       "smog   0.792929  1.000000  0.665313  0.060999  0.006387\n",
       "ar     0.892520  0.665313  1.000000  0.045978 -0.009467\n",
       "vader  0.053839  0.060999  0.045978  1.000000  0.171066\n",
       "liwc  -0.014694  0.006387 -0.009467  0.171066  1.000000"
      ]
     },
     "execution_count": 23,
     "metadata": {},
     "output_type": "execute_result"
    }
   ],
   "source": [
    "# Check correlation between metrics\n",
    "corrs = df.corr()\n",
    "corrs"
   ]
  },
  {
   "cell_type": "code",
   "execution_count": 24,
   "metadata": {},
   "outputs": [
    {
     "data": {
      "image/png": "[encoded data removed]",
      "text/plain": [
       "<matplotlib.figure.Figure at 0x10cb448d0>"
      ]
     },
     "metadata": {},
     "output_type": "display_data"
    }
   ],
   "source": [
    "# Plot relations between metrics\n",
    "pd.plotting.scatter_matrix(df);"
   ]
  },
  {
   "cell_type": "code",
   "execution_count": 25,
   "metadata": {
    "scrolled": false
   },
   "outputs": [
    {
     "data": {
      "text/html": [
       "<div>\n",
       "<style>\n",
       "    .dataframe thead tr:only-child th {\n",
       "        text-align: right;\n",
       "    }\n",
       "\n",
       "    .dataframe thead th {\n",
       "        text-align: left;\n",
       "    }\n",
       "\n",
       "    .dataframe tbody tr th {\n",
       "        vertical-align: top;\n",
       "    }\n",
       "</style>\n",
       "<table border=\"1\" class=\"dataframe\">\n",
       "  <thead>\n",
       "    <tr style=\"text-align: right;\">\n",
       "      <th></th>\n",
       "      <th></th>\n",
       "      <th>fk</th>\n",
       "      <th>smog</th>\n",
       "      <th>ar</th>\n",
       "      <th>vader</th>\n",
       "      <th>liwc</th>\n",
       "    </tr>\n",
       "    <tr>\n",
       "      <th>term</th>\n",
       "      <th>dat_type</th>\n",
       "      <th></th>\n",
       "      <th></th>\n",
       "      <th></th>\n",
       "      <th></th>\n",
       "      <th></th>\n",
       "    </tr>\n",
       "  </thead>\n",
       "  <tbody>\n",
       "    <tr>\n",
       "      <th rowspan=\"2\" valign=\"top\">autism</th>\n",
       "      <th>PRs</th>\n",
       "      <td>13.894753</td>\n",
       "      <td>15.287037</td>\n",
       "      <td>17.039198</td>\n",
       "      <td>1.873936</td>\n",
       "      <td>6.166667</td>\n",
       "    </tr>\n",
       "    <tr>\n",
       "      <th>Papers</th>\n",
       "      <td>14.839226</td>\n",
       "      <td>16.020816</td>\n",
       "      <td>18.008159</td>\n",
       "      <td>0.227157</td>\n",
       "      <td>2.967573</td>\n",
       "    </tr>\n",
       "    <tr>\n",
       "      <th rowspan=\"2\" valign=\"top\">cognition</th>\n",
       "      <th>PRs</th>\n",
       "      <td>13.748276</td>\n",
       "      <td>15.192241</td>\n",
       "      <td>16.887644</td>\n",
       "      <td>2.303509</td>\n",
       "      <td>4.902299</td>\n",
       "    </tr>\n",
       "    <tr>\n",
       "      <th>Papers</th>\n",
       "      <td>14.924741</td>\n",
       "      <td>16.123602</td>\n",
       "      <td>17.990683</td>\n",
       "      <td>0.509583</td>\n",
       "      <td>2.940994</td>\n",
       "    </tr>\n",
       "    <tr>\n",
       "      <th rowspan=\"2\" valign=\"top\">consciousness</th>\n",
       "      <th>PRs</th>\n",
       "      <td>13.870370</td>\n",
       "      <td>15.144444</td>\n",
       "      <td>17.058025</td>\n",
       "      <td>-0.247636</td>\n",
       "      <td>4.703704</td>\n",
       "    </tr>\n",
       "    <tr>\n",
       "      <th>Papers</th>\n",
       "      <td>14.133438</td>\n",
       "      <td>15.570755</td>\n",
       "      <td>17.203249</td>\n",
       "      <td>-0.086092</td>\n",
       "      <td>2.538784</td>\n",
       "    </tr>\n",
       "    <tr>\n",
       "      <th rowspan=\"2\" valign=\"top\">dementia</th>\n",
       "      <th>PRs</th>\n",
       "      <td>13.878880</td>\n",
       "      <td>15.245547</td>\n",
       "      <td>16.984733</td>\n",
       "      <td>1.511871</td>\n",
       "      <td>5.374046</td>\n",
       "    </tr>\n",
       "    <tr>\n",
       "      <th>Papers</th>\n",
       "      <td>14.215318</td>\n",
       "      <td>15.703560</td>\n",
       "      <td>17.230313</td>\n",
       "      <td>0.436985</td>\n",
       "      <td>2.827400</td>\n",
       "    </tr>\n",
       "    <tr>\n",
       "      <th rowspan=\"2\" valign=\"top\">diabetes</th>\n",
       "      <th>PRs</th>\n",
       "      <td>13.702402</td>\n",
       "      <td>15.029760</td>\n",
       "      <td>16.936907</td>\n",
       "      <td>1.180341</td>\n",
       "      <td>5.495606</td>\n",
       "    </tr>\n",
       "    <tr>\n",
       "      <th>Papers</th>\n",
       "      <td>13.075057</td>\n",
       "      <td>14.739310</td>\n",
       "      <td>15.955977</td>\n",
       "      <td>0.344294</td>\n",
       "      <td>3.171264</td>\n",
       "    </tr>\n",
       "    <tr>\n",
       "      <th rowspan=\"2\" valign=\"top\">epilepsy</th>\n",
       "      <th>PRs</th>\n",
       "      <td>13.310891</td>\n",
       "      <td>14.705941</td>\n",
       "      <td>16.451980</td>\n",
       "      <td>1.284662</td>\n",
       "      <td>5.396040</td>\n",
       "    </tr>\n",
       "    <tr>\n",
       "      <th>Papers</th>\n",
       "      <td>13.748233</td>\n",
       "      <td>15.049715</td>\n",
       "      <td>17.183694</td>\n",
       "      <td>0.268929</td>\n",
       "      <td>2.631699</td>\n",
       "    </tr>\n",
       "    <tr>\n",
       "      <th rowspan=\"2\" valign=\"top\">hypertension</th>\n",
       "      <th>PRs</th>\n",
       "      <td>13.832743</td>\n",
       "      <td>15.099705</td>\n",
       "      <td>17.081711</td>\n",
       "      <td>0.490596</td>\n",
       "      <td>5.884956</td>\n",
       "    </tr>\n",
       "    <tr>\n",
       "      <th>Papers</th>\n",
       "      <td>12.912583</td>\n",
       "      <td>14.529139</td>\n",
       "      <td>15.923068</td>\n",
       "      <td>0.042915</td>\n",
       "      <td>3.083885</td>\n",
       "    </tr>\n",
       "    <tr>\n",
       "      <th rowspan=\"2\" valign=\"top\">optogenetics</th>\n",
       "      <th>PRs</th>\n",
       "      <td>13.840741</td>\n",
       "      <td>15.281481</td>\n",
       "      <td>16.909259</td>\n",
       "      <td>2.554909</td>\n",
       "      <td>5.981481</td>\n",
       "    </tr>\n",
       "    <tr>\n",
       "      <th>Papers</th>\n",
       "      <td>16.568812</td>\n",
       "      <td>17.197525</td>\n",
       "      <td>19.542739</td>\n",
       "      <td>0.625489</td>\n",
       "      <td>2.077558</td>\n",
       "    </tr>\n",
       "    <tr>\n",
       "      <th rowspan=\"2\" valign=\"top\">perception</th>\n",
       "      <th>PRs</th>\n",
       "      <td>13.681241</td>\n",
       "      <td>15.021298</td>\n",
       "      <td>16.804090</td>\n",
       "      <td>1.960479</td>\n",
       "      <td>2.984485</td>\n",
       "    </tr>\n",
       "    <tr>\n",
       "      <th>Papers</th>\n",
       "      <td>14.230816</td>\n",
       "      <td>15.699898</td>\n",
       "      <td>17.101939</td>\n",
       "      <td>0.585642</td>\n",
       "      <td>2.910204</td>\n",
       "    </tr>\n",
       "    <tr>\n",
       "      <th rowspan=\"2\" valign=\"top\">stroke</th>\n",
       "      <th>PRs</th>\n",
       "      <td>13.572048</td>\n",
       "      <td>14.745295</td>\n",
       "      <td>16.907565</td>\n",
       "      <td>0.417177</td>\n",
       "      <td>4.972325</td>\n",
       "    </tr>\n",
       "    <tr>\n",
       "      <th>Papers</th>\n",
       "      <td>12.730440</td>\n",
       "      <td>14.499121</td>\n",
       "      <td>15.903297</td>\n",
       "      <td>0.049812</td>\n",
       "      <td>3.172527</td>\n",
       "    </tr>\n",
       "    <tr>\n",
       "      <th rowspan=\"2\" valign=\"top\">vaccines</th>\n",
       "      <th>PRs</th>\n",
       "      <td>13.428913</td>\n",
       "      <td>14.900000</td>\n",
       "      <td>16.553043</td>\n",
       "      <td>1.469861</td>\n",
       "      <td>5.486957</td>\n",
       "    </tr>\n",
       "    <tr>\n",
       "      <th>Papers</th>\n",
       "      <td>14.464516</td>\n",
       "      <td>15.854735</td>\n",
       "      <td>17.659313</td>\n",
       "      <td>0.701879</td>\n",
       "      <td>2.336108</td>\n",
       "    </tr>\n",
       "  </tbody>\n",
       "</table>\n",
       "</div>"
      ],
      "text/plain": [
       "                               fk       smog         ar     vader      liwc\n",
       "term          dat_type                                                     \n",
       "autism        PRs       13.894753  15.287037  17.039198  1.873936  6.166667\n",
       "              Papers    14.839226  16.020816  18.008159  0.227157  2.967573\n",
       "cognition     PRs       13.748276  15.192241  16.887644  2.303509  4.902299\n",
       "              Papers    14.924741  16.123602  17.990683  0.509583  2.940994\n",
       "consciousness PRs       13.870370  15.144444  17.058025 -0.247636  4.703704\n",
       "              Papers    14.133438  15.570755  17.203249 -0.086092  2.538784\n",
       "dementia      PRs       13.878880  15.245547  16.984733  1.511871  5.374046\n",
       "              Papers    14.215318  15.703560  17.230313  0.436985  2.827400\n",
       "diabetes      PRs       13.702402  15.029760  16.936907  1.180341  5.495606\n",
       "              Papers    13.075057  14.739310  15.955977  0.344294  3.171264\n",
       "epilepsy      PRs       13.310891  14.705941  16.451980  1.284662  5.396040\n",
       "              Papers    13.748233  15.049715  17.183694  0.268929  2.631699\n",
       "hypertension  PRs       13.832743  15.099705  17.081711  0.490596  5.884956\n",
       "              Papers    12.912583  14.529139  15.923068  0.042915  3.083885\n",
       "optogenetics  PRs       13.840741  15.281481  16.909259  2.554909  5.981481\n",
       "              Papers    16.568812  17.197525  19.542739  0.625489  2.077558\n",
       "perception    PRs       13.681241  15.021298  16.804090  1.960479  2.984485\n",
       "              Papers    14.230816  15.699898  17.101939  0.585642  2.910204\n",
       "stroke        PRs       13.572048  14.745295  16.907565  0.417177  4.972325\n",
       "              Papers    12.730440  14.499121  15.903297  0.049812  3.172527\n",
       "vaccines      PRs       13.428913  14.900000  16.553043  1.469861  5.486957\n",
       "              Papers    14.464516  15.854735  17.659313  0.701879  2.336108"
      ]
     },
     "execution_count": 25,
     "metadata": {},
     "output_type": "execute_result"
    }
   ],
   "source": [
    "# Check the average scores for each measure across different terms\n",
    "avgs = df.groupby(['term', 'dat_type']).mean()\n",
    "avgs"
   ]
  },
  {
   "cell_type": "code",
   "execution_count": 26,
   "metadata": {
    "scrolled": false
   },
   "outputs": [
    {
     "data": {
      "image/png": "[encoded data removed]",
      "text/plain": [
       "<matplotlib.figure.Figure at 0x10cc2b390>"
      ]
     },
     "metadata": {},
     "output_type": "display_data"
    },
    {
     "data": {
      "image/png": "[encoded data removed]",
      "text/plain": [
       "<matplotlib.figure.Figure at 0x1110d7fd0>"
      ]
     },
     "metadata": {},
     "output_type": "display_data"
    },
    {
     "data": {
      "image/png": "[encoded data removed]",
      "text/plain": [
       "<matplotlib.figure.Figure at 0x111449278>"
      ]
     },
     "metadata": {},
     "output_type": "display_data"
    },
    {
     "data": {
      "image/png": "[encoded data removed]",
      "text/plain": [
       "<matplotlib.figure.Figure at 0x1115c9908>"
      ]
     },
     "metadata": {},
     "output_type": "display_data"
    },
    {
     "data": {
      "image/png": "[encoded data removed]",
      "text/plain": [
       "<matplotlib.figure.Figure at 0x1112eab00>"
      ]
     },
     "metadata": {},
     "output_type": "display_data"
    }
   ],
   "source": [
    "# Plot\n",
    "for metric in ['fk', 'smog', 'ar', 'vader', 'liwc']:\n",
    "    fig, ax = plt.subplots(1, 2, figsize=[14, 6])\n",
    "    plt.suptitle(metric)\n",
    "    ax[0].hist(df[metric], bins=25);\n",
    "    pd.plotting.boxplot(df[metric], ax=ax[1]);"
   ]
  },
  {
   "cell_type": "code",
   "execution_count": 27,
   "metadata": {},
   "outputs": [
    {
     "data": {
      "text/html": [
       "<div>\n",
       "<style>\n",
       "    .dataframe thead tr:only-child th {\n",
       "        text-align: right;\n",
       "    }\n",
       "\n",
       "    .dataframe thead th {\n",
       "        text-align: left;\n",
       "    }\n",
       "\n",
       "    .dataframe tbody tr th {\n",
       "        vertical-align: top;\n",
       "    }\n",
       "</style>\n",
       "<table border=\"1\" class=\"dataframe\">\n",
       "  <thead>\n",
       "    <tr style=\"text-align: right;\">\n",
       "      <th></th>\n",
       "      <th>fk</th>\n",
       "      <th>smog</th>\n",
       "      <th>ar</th>\n",
       "      <th>vader</th>\n",
       "      <th>liwc</th>\n",
       "    </tr>\n",
       "    <tr>\n",
       "      <th>dat_type</th>\n",
       "      <th></th>\n",
       "      <th></th>\n",
       "      <th></th>\n",
       "      <th></th>\n",
       "      <th></th>\n",
       "    </tr>\n",
       "  </thead>\n",
       "  <tbody>\n",
       "    <tr>\n",
       "      <th>PRs</th>\n",
       "      <td>13.676390</td>\n",
       "      <td>15.000263</td>\n",
       "      <td>16.882828</td>\n",
       "      <td>1.241859</td>\n",
       "      <td>5.089633</td>\n",
       "    </tr>\n",
       "    <tr>\n",
       "      <th>Papers</th>\n",
       "      <td>14.109533</td>\n",
       "      <td>15.507556</td>\n",
       "      <td>17.189821</td>\n",
       "      <td>0.330823</td>\n",
       "      <td>2.806920</td>\n",
       "    </tr>\n",
       "  </tbody>\n",
       "</table>\n",
       "</div>"
      ],
      "text/plain": [
       "                 fk       smog         ar     vader      liwc\n",
       "dat_type                                                     \n",
       "PRs       13.676390  15.000263  16.882828  1.241859  5.089633\n",
       "Papers    14.109533  15.507556  17.189821  0.330823  2.806920"
      ]
     },
     "execution_count": 27,
     "metadata": {},
     "output_type": "execute_result"
    }
   ],
   "source": [
    "# Check the average differences between data types\n",
    "df.groupby('dat_type').mean()"
   ]
  },
  {
   "cell_type": "code",
   "execution_count": null,
   "metadata": {
    "collapsed": true
   },
   "outputs": [],
   "source": []
  }
 ],
 "metadata": {
  "kernelspec": {
   "display_name": "Python [conda env:anaconda]",
   "language": "python",
   "name": "conda-env-anaconda-py"
  },
  "language_info": {
   "codemirror_mode": {
    "name": "ipython",
    "version": 3
   },
   "file_extension": ".py",
   "mimetype": "text/x-python",
   "name": "python",
   "nbconvert_exporter": "python",
   "pygments_lexer": "ipython3",
   "version": "3.6.3"
  }
 },
 "nbformat": 4,
 "nbformat_minor": 2
}
