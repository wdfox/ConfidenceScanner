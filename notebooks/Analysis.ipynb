{
 "cells": [
  {
   "cell_type": "markdown",
   "metadata": {},
   "source": [
    "# Analysis"
   ]
  },
  {
   "cell_type": "code",
   "execution_count": 1,
   "metadata": {
    "collapsed": true
   },
   "outputs": [],
   "source": [
    "%matplotlib inline\n",
    "\n",
    "import os\n",
    "\n",
    "import numpy as np\n",
    "import pandas as pd\n",
    "import matplotlib.pyplot as plt\n",
    "\n",
    "from scipy.stats import pearsonr"
   ]
  },
  {
   "cell_type": "markdown",
   "metadata": {},
   "source": [
    "### Settings"
   ]
  },
  {
   "cell_type": "markdown",
   "metadata": {},
   "source": [
    "#### Metric Mapping:\n",
    "- 'fks' = ReadingLevel (document level score, ratio of word & sentence length)\n",
    "- 'vader' = Sentiment (word count method, applied to each sentence, applied as a difference of sentences)\n",
    "- 'subj' = Subjectivity (classifier applied to each sentence, score calculated as diffence across sentences)\n",
    "- 'liwc' = Confidence (word count method)"
   ]
  },
  {
   "cell_type": "code",
   "execution_count": 2,
   "metadata": {
    "collapsed": true
   },
   "outputs": [],
   "source": [
    "# Set core metrics\n",
    "core_metrics = ['fks', 'vader', 'subj', 'liwc']"
   ]
  },
  {
   "cell_type": "markdown",
   "metadata": {},
   "source": [
    "### Loading "
   ]
  },
  {
   "cell_type": "code",
   "execution_count": 3,
   "metadata": {
    "collapsed": true
   },
   "outputs": [],
   "source": [
    "# Set path to load files from\n",
    "res_path = '/Users/tom/Documents/GitCode/ConfidenceScanner/scripts/results/'\n",
    "#res_path = '/Users/wdfox/Documents/GitCode/Confidence_Scanner/scripts/results/'"
   ]
  },
  {
   "cell_type": "code",
   "execution_count": 4,
   "metadata": {
    "collapsed": true
   },
   "outputs": [],
   "source": [
    "# Load files\n",
    "dfs = []\n",
    "for dat_type in ['Papers', 'PRs']:\n",
    "    \n",
    "    d1 = pd.read_csv(os.path.join(res_path, dat_type + '_readability.csv'))\n",
    "    d2 = pd.read_csv(os.path.join(res_path, dat_type + '_analysis.csv'))\n",
    "    d3 = pd.read_csv(os.path.join(res_path, dat_type + '_metadata.csv'))\n",
    "    \n",
    "    # Merge dataframes - to get all features for particular document type\n",
    "    dft = pd.merge(d1, d2, on=['id', 'term'])\n",
    "    df = pd.merge(dft, d3, on=['id', 'term'])\n",
    "    df['dat_type'] = dat_type\n",
    "    \n",
    "    dfs.append(df)"
   ]
  },
  {
   "cell_type": "code",
   "execution_count": 5,
   "metadata": {
    "collapsed": true
   },
   "outputs": [],
   "source": [
    "# Combine into one joint df, with all data (papers and press releases)\n",
    "df = pd.concat(dfs)"
   ]
  },
  {
   "cell_type": "code",
   "execution_count": 6,
   "metadata": {
    "collapsed": true
   },
   "outputs": [],
   "source": [
    "## Cleans ups\n",
    "df.set_index('id', inplace=True)\n",
    "df.drop('Unnamed: 0', axis=1, inplace=True)\n",
    "\n",
    "# Drop old data columns (remove when analysis re-run)\n",
    "df = df.drop(['fk', 'consen'], axis=1)"
   ]
  },
  {
   "cell_type": "code",
   "execution_count": 7,
   "metadata": {},
   "outputs": [
    {
     "name": "stdout",
     "output_type": "stream",
     "text": [
      "1\n"
     ]
    }
   ],
   "source": [
    "# Drop any documents which have zero words\n",
    "nb = len(df)\n",
    "df = df[df['n_words'] > 0]\n",
    "na = len(df)\n",
    "print(nb - na)"
   ]
  },
  {
   "cell_type": "code",
   "execution_count": 8,
   "metadata": {},
   "outputs": [
    {
     "data": {
      "text/html": [
       "<div>\n",
       "<style>\n",
       "    .dataframe thead tr:only-child th {\n",
       "        text-align: right;\n",
       "    }\n",
       "\n",
       "    .dataframe thead th {\n",
       "        text-align: left;\n",
       "    }\n",
       "\n",
       "    .dataframe tbody tr th {\n",
       "        vertical-align: top;\n",
       "    }\n",
       "</style>\n",
       "<table border=\"1\" class=\"dataframe\">\n",
       "  <thead>\n",
       "    <tr style=\"text-align: right;\">\n",
       "      <th></th>\n",
       "      <th>term</th>\n",
       "      <th>smog</th>\n",
       "      <th>ar</th>\n",
       "      <th>fkg</th>\n",
       "      <th>fks</th>\n",
       "      <th>lwf</th>\n",
       "      <th>vader</th>\n",
       "      <th>liu</th>\n",
       "      <th>subj</th>\n",
       "      <th>liwc</th>\n",
       "      <th>n_words</th>\n",
       "      <th>n_sentences</th>\n",
       "      <th>has_source_link</th>\n",
       "      <th>has_article_link</th>\n",
       "      <th>has_other_link</th>\n",
       "      <th>region</th>\n",
       "      <th>journal</th>\n",
       "      <th>dat_type</th>\n",
       "    </tr>\n",
       "    <tr>\n",
       "      <th>id</th>\n",
       "      <th></th>\n",
       "      <th></th>\n",
       "      <th></th>\n",
       "      <th></th>\n",
       "      <th></th>\n",
       "      <th></th>\n",
       "      <th></th>\n",
       "      <th></th>\n",
       "      <th></th>\n",
       "      <th></th>\n",
       "      <th></th>\n",
       "      <th></th>\n",
       "      <th></th>\n",
       "      <th></th>\n",
       "      <th></th>\n",
       "      <th></th>\n",
       "      <th></th>\n",
       "      <th></th>\n",
       "    </tr>\n",
       "  </thead>\n",
       "  <tbody>\n",
       "    <tr>\n",
       "      <th>29373119</th>\n",
       "      <td>autism</td>\n",
       "      <td>16.6</td>\n",
       "      <td>18.2</td>\n",
       "      <td>15.2</td>\n",
       "      <td>18.86</td>\n",
       "      <td>7.500000</td>\n",
       "      <td>1.0194</td>\n",
       "      <td>-1.0</td>\n",
       "      <td>3.0</td>\n",
       "      <td>6.0</td>\n",
       "      <td>143</td>\n",
       "      <td>9</td>\n",
       "      <td>NaN</td>\n",
       "      <td>NaN</td>\n",
       "      <td>NaN</td>\n",
       "      <td>NaN</td>\n",
       "      <td>Biological psychiatry</td>\n",
       "      <td>Papers</td>\n",
       "    </tr>\n",
       "    <tr>\n",
       "      <th>29369294</th>\n",
       "      <td>autism</td>\n",
       "      <td>18.2</td>\n",
       "      <td>22.2</td>\n",
       "      <td>17.7</td>\n",
       "      <td>12.46</td>\n",
       "      <td>7.916667</td>\n",
       "      <td>-2.5924</td>\n",
       "      <td>-2.0</td>\n",
       "      <td>5.0</td>\n",
       "      <td>6.0</td>\n",
       "      <td>189</td>\n",
       "      <td>11</td>\n",
       "      <td>NaN</td>\n",
       "      <td>NaN</td>\n",
       "      <td>NaN</td>\n",
       "      <td>NaN</td>\n",
       "      <td>Acta neurobiologiae experimentalis</td>\n",
       "      <td>Papers</td>\n",
       "    </tr>\n",
       "    <tr>\n",
       "      <th>29367178</th>\n",
       "      <td>autism</td>\n",
       "      <td>15.1</td>\n",
       "      <td>14.8</td>\n",
       "      <td>13.1</td>\n",
       "      <td>35.07</td>\n",
       "      <td>7.000000</td>\n",
       "      <td>0.9111</td>\n",
       "      <td>2.0</td>\n",
       "      <td>-2.0</td>\n",
       "      <td>8.0</td>\n",
       "      <td>125</td>\n",
       "      <td>8</td>\n",
       "      <td>NaN</td>\n",
       "      <td>NaN</td>\n",
       "      <td>NaN</td>\n",
       "      <td>NaN</td>\n",
       "      <td>Epilepsy research</td>\n",
       "      <td>Papers</td>\n",
       "    </tr>\n",
       "    <tr>\n",
       "      <th>29361396</th>\n",
       "      <td>autism</td>\n",
       "      <td>21.3</td>\n",
       "      <td>23.7</td>\n",
       "      <td>19.8</td>\n",
       "      <td>12.30</td>\n",
       "      <td>18.000000</td>\n",
       "      <td>-0.9329</td>\n",
       "      <td>-3.0</td>\n",
       "      <td>0.0</td>\n",
       "      <td>0.0</td>\n",
       "      <td>116</td>\n",
       "      <td>6</td>\n",
       "      <td>NaN</td>\n",
       "      <td>NaN</td>\n",
       "      <td>NaN</td>\n",
       "      <td>NaN</td>\n",
       "      <td>Neuromuscular disorders : NMD</td>\n",
       "      <td>Papers</td>\n",
       "    </tr>\n",
       "    <tr>\n",
       "      <th>29358944</th>\n",
       "      <td>autism</td>\n",
       "      <td>17.3</td>\n",
       "      <td>18.5</td>\n",
       "      <td>16.5</td>\n",
       "      <td>21.02</td>\n",
       "      <td>13.125000</td>\n",
       "      <td>0.0173</td>\n",
       "      <td>1.0</td>\n",
       "      <td>-1.0</td>\n",
       "      <td>6.0</td>\n",
       "      <td>101</td>\n",
       "      <td>7</td>\n",
       "      <td>NaN</td>\n",
       "      <td>NaN</td>\n",
       "      <td>NaN</td>\n",
       "      <td>NaN</td>\n",
       "      <td>Frontiers in genetics</td>\n",
       "      <td>Papers</td>\n",
       "    </tr>\n",
       "  </tbody>\n",
       "</table>\n",
       "</div>"
      ],
      "text/plain": [
       "            term  smog    ar   fkg    fks        lwf   vader  liu  subj  liwc  \\\n",
       "id                                                                              \n",
       "29373119  autism  16.6  18.2  15.2  18.86   7.500000  1.0194 -1.0   3.0   6.0   \n",
       "29369294  autism  18.2  22.2  17.7  12.46   7.916667 -2.5924 -2.0   5.0   6.0   \n",
       "29367178  autism  15.1  14.8  13.1  35.07   7.000000  0.9111  2.0  -2.0   8.0   \n",
       "29361396  autism  21.3  23.7  19.8  12.30  18.000000 -0.9329 -3.0   0.0   0.0   \n",
       "29358944  autism  17.3  18.5  16.5  21.02  13.125000  0.0173  1.0  -1.0   6.0   \n",
       "\n",
       "          n_words  n_sentences  has_source_link  has_article_link  \\\n",
       "id                                                                  \n",
       "29373119      143            9              NaN               NaN   \n",
       "29369294      189           11              NaN               NaN   \n",
       "29367178      125            8              NaN               NaN   \n",
       "29361396      116            6              NaN               NaN   \n",
       "29358944      101            7              NaN               NaN   \n",
       "\n",
       "          has_other_link region                             journal dat_type  \n",
       "id                                                                            \n",
       "29373119             NaN    NaN               Biological psychiatry   Papers  \n",
       "29369294             NaN    NaN  Acta neurobiologiae experimentalis   Papers  \n",
       "29367178             NaN    NaN                   Epilepsy research   Papers  \n",
       "29361396             NaN    NaN       Neuromuscular disorders : NMD   Papers  \n",
       "29358944             NaN    NaN               Frontiers in genetics   Papers  "
      ]
     },
     "execution_count": 8,
     "metadata": {},
     "output_type": "execute_result"
    }
   ],
   "source": [
    "# Check out a few rows\n",
    "df.head()"
   ]
  },
  {
   "cell_type": "markdown",
   "metadata": {},
   "source": [
    "### Clean Ups"
   ]
  },
  {
   "cell_type": "code",
   "execution_count": 9,
   "metadata": {},
   "outputs": [
    {
     "name": "stdout",
     "output_type": "stream",
     "text": [
      "156 data points dropped.\n"
     ]
    }
   ],
   "source": [
    "# Remove outliers\n",
    "n_before = len(df)\n",
    "for metric in core_metrics:\n",
    "    std3 = 4 * df[metric].std()\n",
    "    std_max = df[metric].mean() + std3\n",
    "    std_min = df[metric].mean() - std3\n",
    "\n",
    "    df = df[df[metric] > std_min]\n",
    "    df = df[df[metric] < std_max]\n",
    "n_after = len(df)\n",
    "\n",
    "print(n_before - n_after, 'data points dropped.')"
   ]
  },
  {
   "cell_type": "markdown",
   "metadata": {},
   "source": [
    "### Explore"
   ]
  },
  {
   "cell_type": "code",
   "execution_count": 10,
   "metadata": {},
   "outputs": [
    {
     "data": {
      "text/plain": [
       "Papers    9899\n",
       "PRs       5516\n",
       "Name: dat_type, dtype: int64"
      ]
     },
     "execution_count": 10,
     "metadata": {},
     "output_type": "execute_result"
    }
   ],
   "source": [
    "# Check how many there are of each data type\n",
    "df['dat_type'].value_counts()"
   ]
  },
  {
   "cell_type": "code",
   "execution_count": 11,
   "metadata": {},
   "outputs": [
    {
     "data": {
      "text/plain": [
       "diabetes         2528\n",
       "stroke           1960\n",
       "perception       1659\n",
       "vaccines         1407\n",
       "dementia         1308\n",
       "cognition        1300\n",
       "autism           1264\n",
       "hypertension     1232\n",
       "epilepsy         1073\n",
       "consciousness    1026\n",
       "optogenetics      658\n",
       "Name: term, dtype: int64"
      ]
     },
     "execution_count": 11,
     "metadata": {},
     "output_type": "execute_result"
    }
   ],
   "source": [
    "# Check how many documents there are for each term\n",
    "df['term'].value_counts()"
   ]
  },
  {
   "cell_type": "code",
   "execution_count": 12,
   "metadata": {},
   "outputs": [
    {
     "data": {
      "text/plain": [
       "dat_type  term         \n",
       "PRs       autism            310\n",
       "          cognition         335\n",
       "          consciousness      76\n",
       "          dementia          381\n",
       "          diabetes         1658\n",
       "          epilepsy          198\n",
       "          hypertension      326\n",
       "          optogenetics       53\n",
       "          perception        681\n",
       "          stroke           1051\n",
       "          vaccines          447\n",
       "Papers    autism            954\n",
       "          cognition         965\n",
       "          consciousness     950\n",
       "          dementia          927\n",
       "          diabetes          870\n",
       "          epilepsy          875\n",
       "          hypertension      906\n",
       "          optogenetics      605\n",
       "          perception        978\n",
       "          stroke            909\n",
       "          vaccines          960\n",
       "dtype: int64"
      ]
     },
     "execution_count": 12,
     "metadata": {},
     "output_type": "execute_result"
    }
   ],
   "source": [
    "# Check how many of each document there are, split up by document type and term\n",
    "df.groupby(['dat_type', 'term']).size()"
   ]
  },
  {
   "cell_type": "code",
   "execution_count": 13,
   "metadata": {},
   "outputs": [
    {
     "data": {
      "text/html": [
       "<div>\n",
       "<style>\n",
       "    .dataframe thead tr:only-child th {\n",
       "        text-align: right;\n",
       "    }\n",
       "\n",
       "    .dataframe thead th {\n",
       "        text-align: left;\n",
       "    }\n",
       "\n",
       "    .dataframe tbody tr th {\n",
       "        vertical-align: top;\n",
       "    }\n",
       "</style>\n",
       "<table border=\"1\" class=\"dataframe\">\n",
       "  <thead>\n",
       "    <tr style=\"text-align: right;\">\n",
       "      <th></th>\n",
       "      <th>smog</th>\n",
       "      <th>ar</th>\n",
       "      <th>fkg</th>\n",
       "      <th>fks</th>\n",
       "      <th>lwf</th>\n",
       "      <th>vader</th>\n",
       "      <th>liu</th>\n",
       "      <th>subj</th>\n",
       "      <th>liwc</th>\n",
       "      <th>n_words</th>\n",
       "      <th>n_sentences</th>\n",
       "      <th>has_source_link</th>\n",
       "      <th>has_article_link</th>\n",
       "      <th>has_other_link</th>\n",
       "    </tr>\n",
       "  </thead>\n",
       "  <tbody>\n",
       "    <tr>\n",
       "      <th>count</th>\n",
       "      <td>15415.000000</td>\n",
       "      <td>15415.000000</td>\n",
       "      <td>15415.000000</td>\n",
       "      <td>15415.000000</td>\n",
       "      <td>15415.000000</td>\n",
       "      <td>15415.000000</td>\n",
       "      <td>15415.000000</td>\n",
       "      <td>15415.000000</td>\n",
       "      <td>15415.000000</td>\n",
       "      <td>15415.000000</td>\n",
       "      <td>15415.000000</td>\n",
       "      <td>5516.000000</td>\n",
       "      <td>5516.000000</td>\n",
       "      <td>5516.000000</td>\n",
       "    </tr>\n",
       "    <tr>\n",
       "      <th>mean</th>\n",
       "      <td>15.336263</td>\n",
       "      <td>17.058482</td>\n",
       "      <td>13.945002</td>\n",
       "      <td>33.317143</td>\n",
       "      <td>11.163471</td>\n",
       "      <td>0.630899</td>\n",
       "      <td>-0.455336</td>\n",
       "      <td>-1.917678</td>\n",
       "      <td>3.146805</td>\n",
       "      <td>199.863380</td>\n",
       "      <td>12.336231</td>\n",
       "      <td>0.359137</td>\n",
       "      <td>0.454315</td>\n",
       "      <td>0.034808</td>\n",
       "    </tr>\n",
       "    <tr>\n",
       "      <th>std</th>\n",
       "      <td>2.403699</td>\n",
       "      <td>3.240656</td>\n",
       "      <td>2.793793</td>\n",
       "      <td>14.045844</td>\n",
       "      <td>3.828943</td>\n",
       "      <td>2.406481</td>\n",
       "      <td>4.347103</td>\n",
       "      <td>4.561209</td>\n",
       "      <td>5.090251</td>\n",
       "      <td>137.104579</td>\n",
       "      <td>7.924068</td>\n",
       "      <td>0.479791</td>\n",
       "      <td>0.497954</td>\n",
       "      <td>0.183309</td>\n",
       "    </tr>\n",
       "    <tr>\n",
       "      <th>min</th>\n",
       "      <td>0.000000</td>\n",
       "      <td>5.000000</td>\n",
       "      <td>3.300000</td>\n",
       "      <td>-23.790000</td>\n",
       "      <td>0.500000</td>\n",
       "      <td>-9.898900</td>\n",
       "      <td>-25.000000</td>\n",
       "      <td>-20.000000</td>\n",
       "      <td>-17.000000</td>\n",
       "      <td>2.000000</td>\n",
       "      <td>1.000000</td>\n",
       "      <td>0.000000</td>\n",
       "      <td>0.000000</td>\n",
       "      <td>0.000000</td>\n",
       "    </tr>\n",
       "    <tr>\n",
       "      <th>25%</th>\n",
       "      <td>14.000000</td>\n",
       "      <td>15.000000</td>\n",
       "      <td>12.200000</td>\n",
       "      <td>24.170000</td>\n",
       "      <td>8.200000</td>\n",
       "      <td>-0.654050</td>\n",
       "      <td>-3.000000</td>\n",
       "      <td>-5.000000</td>\n",
       "      <td>0.000000</td>\n",
       "      <td>114.000000</td>\n",
       "      <td>7.000000</td>\n",
       "      <td>0.000000</td>\n",
       "      <td>0.000000</td>\n",
       "      <td>0.000000</td>\n",
       "    </tr>\n",
       "    <tr>\n",
       "      <th>50%</th>\n",
       "      <td>15.300000</td>\n",
       "      <td>17.000000</td>\n",
       "      <td>13.900000</td>\n",
       "      <td>34.260000</td>\n",
       "      <td>10.900000</td>\n",
       "      <td>0.541000</td>\n",
       "      <td>0.000000</td>\n",
       "      <td>-2.000000</td>\n",
       "      <td>3.000000</td>\n",
       "      <td>149.000000</td>\n",
       "      <td>10.000000</td>\n",
       "      <td>0.000000</td>\n",
       "      <td>0.000000</td>\n",
       "      <td>0.000000</td>\n",
       "    </tr>\n",
       "    <tr>\n",
       "      <th>75%</th>\n",
       "      <td>16.800000</td>\n",
       "      <td>19.000000</td>\n",
       "      <td>15.700000</td>\n",
       "      <td>43.020000</td>\n",
       "      <td>13.250000</td>\n",
       "      <td>1.802600</td>\n",
       "      <td>2.000000</td>\n",
       "      <td>1.000000</td>\n",
       "      <td>6.000000</td>\n",
       "      <td>260.000000</td>\n",
       "      <td>15.000000</td>\n",
       "      <td>1.000000</td>\n",
       "      <td>1.000000</td>\n",
       "      <td>0.000000</td>\n",
       "    </tr>\n",
       "    <tr>\n",
       "      <th>max</th>\n",
       "      <td>26.200000</td>\n",
       "      <td>46.500000</td>\n",
       "      <td>30.900000</td>\n",
       "      <td>85.080000</td>\n",
       "      <td>55.500000</td>\n",
       "      <td>11.193500</td>\n",
       "      <td>22.000000</td>\n",
       "      <td>16.000000</td>\n",
       "      <td>24.000000</td>\n",
       "      <td>2310.000000</td>\n",
       "      <td>102.000000</td>\n",
       "      <td>1.000000</td>\n",
       "      <td>1.000000</td>\n",
       "      <td>1.000000</td>\n",
       "    </tr>\n",
       "  </tbody>\n",
       "</table>\n",
       "</div>"
      ],
      "text/plain": [
       "               smog            ar           fkg           fks           lwf  \\\n",
       "count  15415.000000  15415.000000  15415.000000  15415.000000  15415.000000   \n",
       "mean      15.336263     17.058482     13.945002     33.317143     11.163471   \n",
       "std        2.403699      3.240656      2.793793     14.045844      3.828943   \n",
       "min        0.000000      5.000000      3.300000    -23.790000      0.500000   \n",
       "25%       14.000000     15.000000     12.200000     24.170000      8.200000   \n",
       "50%       15.300000     17.000000     13.900000     34.260000     10.900000   \n",
       "75%       16.800000     19.000000     15.700000     43.020000     13.250000   \n",
       "max       26.200000     46.500000     30.900000     85.080000     55.500000   \n",
       "\n",
       "              vader           liu          subj          liwc       n_words  \\\n",
       "count  15415.000000  15415.000000  15415.000000  15415.000000  15415.000000   \n",
       "mean       0.630899     -0.455336     -1.917678      3.146805    199.863380   \n",
       "std        2.406481      4.347103      4.561209      5.090251    137.104579   \n",
       "min       -9.898900    -25.000000    -20.000000    -17.000000      2.000000   \n",
       "25%       -0.654050     -3.000000     -5.000000      0.000000    114.000000   \n",
       "50%        0.541000      0.000000     -2.000000      3.000000    149.000000   \n",
       "75%        1.802600      2.000000      1.000000      6.000000    260.000000   \n",
       "max       11.193500     22.000000     16.000000     24.000000   2310.000000   \n",
       "\n",
       "        n_sentences  has_source_link  has_article_link  has_other_link  \n",
       "count  15415.000000      5516.000000       5516.000000     5516.000000  \n",
       "mean      12.336231         0.359137          0.454315        0.034808  \n",
       "std        7.924068         0.479791          0.497954        0.183309  \n",
       "min        1.000000         0.000000          0.000000        0.000000  \n",
       "25%        7.000000         0.000000          0.000000        0.000000  \n",
       "50%       10.000000         0.000000          0.000000        0.000000  \n",
       "75%       15.000000         1.000000          1.000000        0.000000  \n",
       "max      102.000000         1.000000          1.000000        1.000000  "
      ]
     },
     "execution_count": 13,
     "metadata": {},
     "output_type": "execute_result"
    }
   ],
   "source": [
    "# Descriptive statistics\n",
    "df.describe()"
   ]
  },
  {
   "cell_type": "code",
   "execution_count": 14,
   "metadata": {},
   "outputs": [
    {
     "data": {
      "text/html": [
       "<div>\n",
       "<style>\n",
       "    .dataframe thead tr:only-child th {\n",
       "        text-align: right;\n",
       "    }\n",
       "\n",
       "    .dataframe thead th {\n",
       "        text-align: left;\n",
       "    }\n",
       "\n",
       "    .dataframe tbody tr th {\n",
       "        vertical-align: top;\n",
       "    }\n",
       "</style>\n",
       "<table border=\"1\" class=\"dataframe\">\n",
       "  <thead>\n",
       "    <tr>\n",
       "      <th></th>\n",
       "      <th colspan=\"8\" halign=\"left\">ar</th>\n",
       "      <th colspan=\"8\" halign=\"left\">fkg</th>\n",
       "      <th colspan=\"8\" halign=\"left\">fks</th>\n",
       "      <th colspan=\"8\" halign=\"left\">has_article_link</th>\n",
       "      <th colspan=\"8\" halign=\"left\">has_other_link</th>\n",
       "      <th colspan=\"8\" halign=\"left\">has_source_link</th>\n",
       "      <th colspan=\"2\" halign=\"left\">liu</th>\n",
       "      <th>...</th>\n",
       "      <th colspan=\"2\" halign=\"left\">liwc</th>\n",
       "      <th colspan=\"8\" halign=\"left\">lwf</th>\n",
       "      <th colspan=\"8\" halign=\"left\">n_sentences</th>\n",
       "      <th colspan=\"8\" halign=\"left\">n_words</th>\n",
       "      <th colspan=\"8\" halign=\"left\">smog</th>\n",
       "      <th colspan=\"8\" halign=\"left\">subj</th>\n",
       "      <th colspan=\"8\" halign=\"left\">vader</th>\n",
       "    </tr>\n",
       "    <tr>\n",
       "      <th></th>\n",
       "      <th>count</th>\n",
       "      <th>mean</th>\n",
       "      <th>std</th>\n",
       "      <th>min</th>\n",
       "      <th>25%</th>\n",
       "      <th>50%</th>\n",
       "      <th>75%</th>\n",
       "      <th>max</th>\n",
       "      <th>count</th>\n",
       "      <th>mean</th>\n",
       "      <th>std</th>\n",
       "      <th>min</th>\n",
       "      <th>25%</th>\n",
       "      <th>50%</th>\n",
       "      <th>75%</th>\n",
       "      <th>max</th>\n",
       "      <th>count</th>\n",
       "      <th>mean</th>\n",
       "      <th>std</th>\n",
       "      <th>min</th>\n",
       "      <th>25%</th>\n",
       "      <th>50%</th>\n",
       "      <th>75%</th>\n",
       "      <th>max</th>\n",
       "      <th>count</th>\n",
       "      <th>mean</th>\n",
       "      <th>std</th>\n",
       "      <th>min</th>\n",
       "      <th>25%</th>\n",
       "      <th>50%</th>\n",
       "      <th>75%</th>\n",
       "      <th>max</th>\n",
       "      <th>count</th>\n",
       "      <th>mean</th>\n",
       "      <th>std</th>\n",
       "      <th>min</th>\n",
       "      <th>25%</th>\n",
       "      <th>50%</th>\n",
       "      <th>75%</th>\n",
       "      <th>max</th>\n",
       "      <th>count</th>\n",
       "      <th>mean</th>\n",
       "      <th>std</th>\n",
       "      <th>min</th>\n",
       "      <th>25%</th>\n",
       "      <th>50%</th>\n",
       "      <th>75%</th>\n",
       "      <th>max</th>\n",
       "      <th>count</th>\n",
       "      <th>mean</th>\n",
       "      <th>...</th>\n",
       "      <th>75%</th>\n",
       "      <th>max</th>\n",
       "      <th>count</th>\n",
       "      <th>mean</th>\n",
       "      <th>std</th>\n",
       "      <th>min</th>\n",
       "      <th>25%</th>\n",
       "      <th>50%</th>\n",
       "      <th>75%</th>\n",
       "      <th>max</th>\n",
       "      <th>count</th>\n",
       "      <th>mean</th>\n",
       "      <th>std</th>\n",
       "      <th>min</th>\n",
       "      <th>25%</th>\n",
       "      <th>50%</th>\n",
       "      <th>75%</th>\n",
       "      <th>max</th>\n",
       "      <th>count</th>\n",
       "      <th>mean</th>\n",
       "      <th>std</th>\n",
       "      <th>min</th>\n",
       "      <th>25%</th>\n",
       "      <th>50%</th>\n",
       "      <th>75%</th>\n",
       "      <th>max</th>\n",
       "      <th>count</th>\n",
       "      <th>mean</th>\n",
       "      <th>std</th>\n",
       "      <th>min</th>\n",
       "      <th>25%</th>\n",
       "      <th>50%</th>\n",
       "      <th>75%</th>\n",
       "      <th>max</th>\n",
       "      <th>count</th>\n",
       "      <th>mean</th>\n",
       "      <th>std</th>\n",
       "      <th>min</th>\n",
       "      <th>25%</th>\n",
       "      <th>50%</th>\n",
       "      <th>75%</th>\n",
       "      <th>max</th>\n",
       "      <th>count</th>\n",
       "      <th>mean</th>\n",
       "      <th>std</th>\n",
       "      <th>min</th>\n",
       "      <th>25%</th>\n",
       "      <th>50%</th>\n",
       "      <th>75%</th>\n",
       "      <th>max</th>\n",
       "    </tr>\n",
       "    <tr>\n",
       "      <th>dat_type</th>\n",
       "      <th></th>\n",
       "      <th></th>\n",
       "      <th></th>\n",
       "      <th></th>\n",
       "      <th></th>\n",
       "      <th></th>\n",
       "      <th></th>\n",
       "      <th></th>\n",
       "      <th></th>\n",
       "      <th></th>\n",
       "      <th></th>\n",
       "      <th></th>\n",
       "      <th></th>\n",
       "      <th></th>\n",
       "      <th></th>\n",
       "      <th></th>\n",
       "      <th></th>\n",
       "      <th></th>\n",
       "      <th></th>\n",
       "      <th></th>\n",
       "      <th></th>\n",
       "      <th></th>\n",
       "      <th></th>\n",
       "      <th></th>\n",
       "      <th></th>\n",
       "      <th></th>\n",
       "      <th></th>\n",
       "      <th></th>\n",
       "      <th></th>\n",
       "      <th></th>\n",
       "      <th></th>\n",
       "      <th></th>\n",
       "      <th></th>\n",
       "      <th></th>\n",
       "      <th></th>\n",
       "      <th></th>\n",
       "      <th></th>\n",
       "      <th></th>\n",
       "      <th></th>\n",
       "      <th></th>\n",
       "      <th></th>\n",
       "      <th></th>\n",
       "      <th></th>\n",
       "      <th></th>\n",
       "      <th></th>\n",
       "      <th></th>\n",
       "      <th></th>\n",
       "      <th></th>\n",
       "      <th></th>\n",
       "      <th></th>\n",
       "      <th></th>\n",
       "      <th></th>\n",
       "      <th></th>\n",
       "      <th></th>\n",
       "      <th></th>\n",
       "      <th></th>\n",
       "      <th></th>\n",
       "      <th></th>\n",
       "      <th></th>\n",
       "      <th></th>\n",
       "      <th></th>\n",
       "      <th></th>\n",
       "      <th></th>\n",
       "      <th></th>\n",
       "      <th></th>\n",
       "      <th></th>\n",
       "      <th></th>\n",
       "      <th></th>\n",
       "      <th></th>\n",
       "      <th></th>\n",
       "      <th></th>\n",
       "      <th></th>\n",
       "      <th></th>\n",
       "      <th></th>\n",
       "      <th></th>\n",
       "      <th></th>\n",
       "      <th></th>\n",
       "      <th></th>\n",
       "      <th></th>\n",
       "      <th></th>\n",
       "      <th></th>\n",
       "      <th></th>\n",
       "      <th></th>\n",
       "      <th></th>\n",
       "      <th></th>\n",
       "      <th></th>\n",
       "      <th></th>\n",
       "      <th></th>\n",
       "      <th></th>\n",
       "      <th></th>\n",
       "      <th></th>\n",
       "      <th></th>\n",
       "      <th></th>\n",
       "      <th></th>\n",
       "      <th></th>\n",
       "      <th></th>\n",
       "      <th></th>\n",
       "      <th></th>\n",
       "      <th></th>\n",
       "      <th></th>\n",
       "      <th></th>\n",
       "    </tr>\n",
       "  </thead>\n",
       "  <tbody>\n",
       "    <tr>\n",
       "      <th>PRs</th>\n",
       "      <td>5516.0</td>\n",
       "      <td>16.861439</td>\n",
       "      <td>2.548445</td>\n",
       "      <td>8.3</td>\n",
       "      <td>15.2</td>\n",
       "      <td>16.7</td>\n",
       "      <td>18.3</td>\n",
       "      <td>46.5</td>\n",
       "      <td>5516.0</td>\n",
       "      <td>13.674257</td>\n",
       "      <td>2.044548</td>\n",
       "      <td>3.7</td>\n",
       "      <td>12.3</td>\n",
       "      <td>13.6</td>\n",
       "      <td>14.9</td>\n",
       "      <td>23.4</td>\n",
       "      <td>5516.0</td>\n",
       "      <td>39.698599</td>\n",
       "      <td>9.780422</td>\n",
       "      <td>-7.68</td>\n",
       "      <td>33.44</td>\n",
       "      <td>40.18</td>\n",
       "      <td>46.91</td>\n",
       "      <td>75.88</td>\n",
       "      <td>5516.0</td>\n",
       "      <td>0.454315</td>\n",
       "      <td>0.497954</td>\n",
       "      <td>0.0</td>\n",
       "      <td>0.0</td>\n",
       "      <td>0.0</td>\n",
       "      <td>1.0</td>\n",
       "      <td>1.0</td>\n",
       "      <td>5516.0</td>\n",
       "      <td>0.034808</td>\n",
       "      <td>0.183309</td>\n",
       "      <td>0.0</td>\n",
       "      <td>0.0</td>\n",
       "      <td>0.0</td>\n",
       "      <td>0.0</td>\n",
       "      <td>1.0</td>\n",
       "      <td>5516.0</td>\n",
       "      <td>0.359137</td>\n",
       "      <td>0.479791</td>\n",
       "      <td>0.0</td>\n",
       "      <td>0.0</td>\n",
       "      <td>0.0</td>\n",
       "      <td>1.0</td>\n",
       "      <td>1.0</td>\n",
       "      <td>5516.0</td>\n",
       "      <td>-0.418600</td>\n",
       "      <td>...</td>\n",
       "      <td>9.0</td>\n",
       "      <td>24.0</td>\n",
       "      <td>5516.0</td>\n",
       "      <td>12.621403</td>\n",
       "      <td>4.068186</td>\n",
       "      <td>0.5</td>\n",
       "      <td>10.20</td>\n",
       "      <td>12.5</td>\n",
       "      <td>14.75</td>\n",
       "      <td>30.25</td>\n",
       "      <td>5516.0</td>\n",
       "      <td>18.986584</td>\n",
       "      <td>9.355990</td>\n",
       "      <td>1.0</td>\n",
       "      <td>13.0</td>\n",
       "      <td>18.0</td>\n",
       "      <td>24.0</td>\n",
       "      <td>102.0</td>\n",
       "      <td>5516.0</td>\n",
       "      <td>329.911530</td>\n",
       "      <td>149.244842</td>\n",
       "      <td>2.0</td>\n",
       "      <td>239.0</td>\n",
       "      <td>309.0</td>\n",
       "      <td>398.0</td>\n",
       "      <td>2310.0</td>\n",
       "      <td>5516.0</td>\n",
       "      <td>15.008176</td>\n",
       "      <td>1.705368</td>\n",
       "      <td>0.0</td>\n",
       "      <td>14.0</td>\n",
       "      <td>14.9</td>\n",
       "      <td>16.0</td>\n",
       "      <td>23.0</td>\n",
       "      <td>5516.0</td>\n",
       "      <td>-3.541334</td>\n",
       "      <td>5.567546</td>\n",
       "      <td>-20.0</td>\n",
       "      <td>-7.0</td>\n",
       "      <td>-3.0</td>\n",
       "      <td>0.0</td>\n",
       "      <td>16.0</td>\n",
       "      <td>5516.0</td>\n",
       "      <td>1.167061</td>\n",
       "      <td>3.304689</td>\n",
       "      <td>-9.8989</td>\n",
       "      <td>-0.8860</td>\n",
       "      <td>1.2038</td>\n",
       "      <td>3.290575</td>\n",
       "      <td>11.1935</td>\n",
       "    </tr>\n",
       "    <tr>\n",
       "      <th>Papers</th>\n",
       "      <td>9899.0</td>\n",
       "      <td>17.168280</td>\n",
       "      <td>3.563988</td>\n",
       "      <td>5.0</td>\n",
       "      <td>14.8</td>\n",
       "      <td>17.2</td>\n",
       "      <td>19.4</td>\n",
       "      <td>37.6</td>\n",
       "      <td>9899.0</td>\n",
       "      <td>14.095868</td>\n",
       "      <td>3.124469</td>\n",
       "      <td>3.3</td>\n",
       "      <td>12.0</td>\n",
       "      <td>14.2</td>\n",
       "      <td>16.2</td>\n",
       "      <td>30.9</td>\n",
       "      <td>9899.0</td>\n",
       "      <td>29.761217</td>\n",
       "      <td>14.784840</td>\n",
       "      <td>-23.79</td>\n",
       "      <td>19.89</td>\n",
       "      <td>29.59</td>\n",
       "      <td>39.37</td>\n",
       "      <td>85.08</td>\n",
       "      <td>0.0</td>\n",
       "      <td>NaN</td>\n",
       "      <td>NaN</td>\n",
       "      <td>NaN</td>\n",
       "      <td>NaN</td>\n",
       "      <td>NaN</td>\n",
       "      <td>NaN</td>\n",
       "      <td>NaN</td>\n",
       "      <td>0.0</td>\n",
       "      <td>NaN</td>\n",
       "      <td>NaN</td>\n",
       "      <td>NaN</td>\n",
       "      <td>NaN</td>\n",
       "      <td>NaN</td>\n",
       "      <td>NaN</td>\n",
       "      <td>NaN</td>\n",
       "      <td>0.0</td>\n",
       "      <td>NaN</td>\n",
       "      <td>NaN</td>\n",
       "      <td>NaN</td>\n",
       "      <td>NaN</td>\n",
       "      <td>NaN</td>\n",
       "      <td>NaN</td>\n",
       "      <td>NaN</td>\n",
       "      <td>9899.0</td>\n",
       "      <td>-0.475806</td>\n",
       "      <td>...</td>\n",
       "      <td>5.0</td>\n",
       "      <td>23.0</td>\n",
       "      <td>9899.0</td>\n",
       "      <td>10.351071</td>\n",
       "      <td>3.430011</td>\n",
       "      <td>1.5</td>\n",
       "      <td>7.75</td>\n",
       "      <td>10.4</td>\n",
       "      <td>12.50</td>\n",
       "      <td>55.50</td>\n",
       "      <td>9899.0</td>\n",
       "      <td>8.630468</td>\n",
       "      <td>3.260252</td>\n",
       "      <td>1.0</td>\n",
       "      <td>6.0</td>\n",
       "      <td>8.0</td>\n",
       "      <td>10.0</td>\n",
       "      <td>43.0</td>\n",
       "      <td>9899.0</td>\n",
       "      <td>127.396909</td>\n",
       "      <td>46.750337</td>\n",
       "      <td>3.0</td>\n",
       "      <td>99.0</td>\n",
       "      <td>126.0</td>\n",
       "      <td>149.0</td>\n",
       "      <td>1095.0</td>\n",
       "      <td>9899.0</td>\n",
       "      <td>15.519083</td>\n",
       "      <td>2.698846</td>\n",
       "      <td>0.0</td>\n",
       "      <td>13.9</td>\n",
       "      <td>15.7</td>\n",
       "      <td>17.3</td>\n",
       "      <td>26.2</td>\n",
       "      <td>9899.0</td>\n",
       "      <td>-1.012931</td>\n",
       "      <td>3.583239</td>\n",
       "      <td>-16.0</td>\n",
       "      <td>-3.0</td>\n",
       "      <td>-1.0</td>\n",
       "      <td>1.0</td>\n",
       "      <td>16.0</td>\n",
       "      <td>9899.0</td>\n",
       "      <td>0.332135</td>\n",
       "      <td>1.638296</td>\n",
       "      <td>-9.7331</td>\n",
       "      <td>-0.5996</td>\n",
       "      <td>0.3912</td>\n",
       "      <td>1.320100</td>\n",
       "      <td>7.9335</td>\n",
       "    </tr>\n",
       "  </tbody>\n",
       "</table>\n",
       "<p>2 rows × 112 columns</p>\n",
       "</div>"
      ],
      "text/plain": [
       "              ar                                                       fkg  \\\n",
       "           count       mean       std  min   25%   50%   75%   max   count   \n",
       "dat_type                                                                     \n",
       "PRs       5516.0  16.861439  2.548445  8.3  15.2  16.7  18.3  46.5  5516.0   \n",
       "Papers    9899.0  17.168280  3.563988  5.0  14.8  17.2  19.4  37.6  9899.0   \n",
       "\n",
       "                                                               fks             \\\n",
       "               mean       std  min   25%   50%   75%   max   count       mean   \n",
       "dat_type                                                                        \n",
       "PRs       13.674257  2.044548  3.7  12.3  13.6  14.9  23.4  5516.0  39.698599   \n",
       "Papers    14.095868  3.124469  3.3  12.0  14.2  16.2  30.9  9899.0  29.761217   \n",
       "\n",
       "                                                       has_article_link  \\\n",
       "                std    min    25%    50%    75%    max            count   \n",
       "dat_type                                                                  \n",
       "PRs        9.780422  -7.68  33.44  40.18  46.91  75.88           5516.0   \n",
       "Papers    14.784840 -23.79  19.89  29.59  39.37  85.08              0.0   \n",
       "\n",
       "                                                      has_other_link  \\\n",
       "              mean       std  min  25%  50%  75%  max          count   \n",
       "dat_type                                                               \n",
       "PRs       0.454315  0.497954  0.0  0.0  0.0  1.0  1.0         5516.0   \n",
       "Papers         NaN       NaN  NaN  NaN  NaN  NaN  NaN            0.0   \n",
       "\n",
       "                                                      has_source_link  \\\n",
       "              mean       std  min  25%  50%  75%  max           count   \n",
       "dat_type                                                                \n",
       "PRs       0.034808  0.183309  0.0  0.0  0.0  0.0  1.0          5516.0   \n",
       "Papers         NaN       NaN  NaN  NaN  NaN  NaN  NaN             0.0   \n",
       "\n",
       "                                                          liu            \\\n",
       "              mean       std  min  25%  50%  75%  max   count      mean   \n",
       "dat_type                                                                  \n",
       "PRs       0.359137  0.479791  0.0  0.0  0.0  1.0  1.0  5516.0 -0.418600   \n",
       "Papers         NaN       NaN  NaN  NaN  NaN  NaN  NaN  9899.0 -0.475806   \n",
       "\n",
       "           ...    liwc           lwf                                         \\\n",
       "           ...     75%   max   count       mean       std  min    25%   50%   \n",
       "dat_type   ...                                                                \n",
       "PRs        ...     9.0  24.0  5516.0  12.621403  4.068186  0.5  10.20  12.5   \n",
       "Papers     ...     5.0  23.0  9899.0  10.351071  3.430011  1.5   7.75  10.4   \n",
       "\n",
       "                       n_sentences                                        \\\n",
       "            75%    max       count       mean       std  min   25%   50%   \n",
       "dat_type                                                                   \n",
       "PRs       14.75  30.25      5516.0  18.986584  9.355990  1.0  13.0  18.0   \n",
       "Papers    12.50  55.50      9899.0   8.630468  3.260252  1.0   6.0   8.0   \n",
       "\n",
       "                      n_words                                             \\\n",
       "           75%    max   count        mean         std  min    25%    50%   \n",
       "dat_type                                                                   \n",
       "PRs       24.0  102.0  5516.0  329.911530  149.244842  2.0  239.0  309.0   \n",
       "Papers    10.0   43.0  9899.0  127.396909   46.750337  3.0   99.0  126.0   \n",
       "\n",
       "                           smog                                              \\\n",
       "            75%     max   count       mean       std  min   25%   50%   75%   \n",
       "dat_type                                                                      \n",
       "PRs       398.0  2310.0  5516.0  15.008176  1.705368  0.0  14.0  14.9  16.0   \n",
       "Papers    149.0  1095.0  9899.0  15.519083  2.698846  0.0  13.9  15.7  17.3   \n",
       "\n",
       "                  subj                                                  vader  \\\n",
       "           max   count      mean       std   min  25%  50%  75%   max   count   \n",
       "dat_type                                                                        \n",
       "PRs       23.0  5516.0 -3.541334  5.567546 -20.0 -7.0 -3.0  0.0  16.0  5516.0   \n",
       "Papers    26.2  9899.0 -1.012931  3.583239 -16.0 -3.0 -1.0  1.0  16.0  9899.0   \n",
       "\n",
       "                                                                         \n",
       "              mean       std     min     25%     50%       75%      max  \n",
       "dat_type                                                                 \n",
       "PRs       1.167061  3.304689 -9.8989 -0.8860  1.2038  3.290575  11.1935  \n",
       "Papers    0.332135  1.638296 -9.7331 -0.5996  0.3912  1.320100   7.9335  \n",
       "\n",
       "[2 rows x 112 columns]"
      ]
     },
     "execution_count": 14,
     "metadata": {},
     "output_type": "execute_result"
    }
   ],
   "source": [
    "# Check out the descriptive statistics separated out by dat_type\n",
    "pd.set_option('display.max_columns', 100)\n",
    "df.groupby(['dat_type']).describe()"
   ]
  },
  {
   "cell_type": "markdown",
   "metadata": {},
   "source": [
    "## PR specific Stuff"
   ]
  },
  {
   "cell_type": "code",
   "execution_count": 15,
   "metadata": {},
   "outputs": [
    {
     "data": {
      "text/plain": [
       "namerica     4154\n",
       "europe       1086\n",
       "asia          164\n",
       "australia      42\n",
       "africa         34\n",
       "samerica       15\n",
       "Name: region, dtype: int64"
      ]
     },
     "execution_count": 15,
     "metadata": {},
     "output_type": "execute_result"
    }
   ],
   "source": [
    "# Check documents by region (PR only)\n",
    "df['region'].value_counts()"
   ]
  },
  {
   "cell_type": "code",
   "execution_count": 16,
   "metadata": {},
   "outputs": [
    {
     "name": "stdout",
     "output_type": "stream",
     "text": [
      "Article Link:  \t 0.4543147208121827\n",
      "Source Link:  \t 0.35913705583756345\n",
      "Other Link:  \t 0.03480783176214648\n"
     ]
    }
   ],
   "source": [
    "# Check how many have links\n",
    "print('Article Link: ', '\\t', df['has_article_link'].mean())\n",
    "print('Source Link: ', '\\t', df['has_source_link'].mean())\n",
    "print('Other Link: ', '\\t', df['has_other_link'].mean())"
   ]
  },
  {
   "cell_type": "markdown",
   "metadata": {},
   "source": [
    "## Analyses"
   ]
  },
  {
   "cell_type": "code",
   "execution_count": 17,
   "metadata": {},
   "outputs": [
    {
     "data": {
      "text/html": [
       "<div>\n",
       "<style>\n",
       "    .dataframe thead tr:only-child th {\n",
       "        text-align: right;\n",
       "    }\n",
       "\n",
       "    .dataframe thead th {\n",
       "        text-align: left;\n",
       "    }\n",
       "\n",
       "    .dataframe tbody tr th {\n",
       "        vertical-align: top;\n",
       "    }\n",
       "</style>\n",
       "<table border=\"1\" class=\"dataframe\">\n",
       "  <thead>\n",
       "    <tr style=\"text-align: right;\">\n",
       "      <th></th>\n",
       "      <th>fks</th>\n",
       "      <th>vader</th>\n",
       "      <th>subj</th>\n",
       "      <th>liwc</th>\n",
       "    </tr>\n",
       "  </thead>\n",
       "  <tbody>\n",
       "    <tr>\n",
       "      <th>fks</th>\n",
       "      <td>1.000000</td>\n",
       "      <td>0.021627</td>\n",
       "      <td>-0.134175</td>\n",
       "      <td>0.092832</td>\n",
       "    </tr>\n",
       "    <tr>\n",
       "      <th>vader</th>\n",
       "      <td>0.021627</td>\n",
       "      <td>1.000000</td>\n",
       "      <td>0.016378</td>\n",
       "      <td>0.109506</td>\n",
       "    </tr>\n",
       "    <tr>\n",
       "      <th>subj</th>\n",
       "      <td>-0.134175</td>\n",
       "      <td>0.016378</td>\n",
       "      <td>1.000000</td>\n",
       "      <td>-0.159919</td>\n",
       "    </tr>\n",
       "    <tr>\n",
       "      <th>liwc</th>\n",
       "      <td>0.092832</td>\n",
       "      <td>0.109506</td>\n",
       "      <td>-0.159919</td>\n",
       "      <td>1.000000</td>\n",
       "    </tr>\n",
       "  </tbody>\n",
       "</table>\n",
       "</div>"
      ],
      "text/plain": [
       "            fks     vader      subj      liwc\n",
       "fks    1.000000  0.021627 -0.134175  0.092832\n",
       "vader  0.021627  1.000000  0.016378  0.109506\n",
       "subj  -0.134175  0.016378  1.000000 -0.159919\n",
       "liwc   0.092832  0.109506 -0.159919  1.000000"
      ]
     },
     "execution_count": 17,
     "metadata": {},
     "output_type": "execute_result"
    }
   ],
   "source": [
    "# Check correlation between metrics\n",
    "corrs = df[core_metrics].corr()\n",
    "corrs"
   ]
  },
  {
   "cell_type": "code",
   "execution_count": 18,
   "metadata": {},
   "outputs": [
    {
     "data": {
      "text/plain": [
       "<matplotlib.colorbar.Colorbar at 0x1a18900198>"
      ]
     },
     "execution_count": 18,
     "metadata": {},
     "output_type": "execute_result"
    },
    {
     "data": {
      "image/png": "[encoded data removed]",
      "text/plain": [
       "<matplotlib.figure.Figure at 0x1a17bba5f8>"
      ]
     },
     "metadata": {},
     "output_type": "display_data"
    }
   ],
   "source": [
    "# Plot the correlation matrix\n",
    "plt.figure(figsize=[10, 10])\n",
    "plt.imshow(corrs.values, cmap='seismic', vmin=-1, vmax=1);\n",
    "plt.xticks(range(len(corrs)), list(corrs.columns));\n",
    "plt.yticks(range(len(corrs)), list(corrs.columns));\n",
    "plt.colorbar()\n",
    "#plt.savefig('CorrMat.pdf')"
   ]
  },
  {
   "cell_type": "code",
   "execution_count": 19,
   "metadata": {},
   "outputs": [
    {
     "name": "stdout",
     "output_type": "stream",
     "text": [
      "fks fks \t (1.0, 0.0)\n",
      "fks vader \t (0.021626609899993269, 0.0072487563945894725)\n",
      "fks subj \t (-0.13417463139378152, 7.5218570842912107e-63)\n",
      "fks liwc \t (0.092832111805519674, 7.4007090401965571e-31)\n",
      "vader fks \t (0.021626609899993269, 0.0072487563945894725)\n",
      "vader vader \t (1.0, 0.0)\n",
      "vader subj \t (0.016377529024157001, 0.04201627313398907)\n",
      "vader liwc \t (0.10950596212447393, 2.4505255345049575e-42)\n",
      "subj fks \t (-0.13417463139378152, 7.5218570842912107e-63)\n",
      "subj vader \t (0.016377529024157001, 0.04201627313398907)\n",
      "subj subj \t (1.0, 0.0)\n",
      "subj liwc \t (-0.15991863803941925, 7.8748072972432559e-89)\n",
      "liwc fks \t (0.092832111805519674, 7.4007090401965571e-31)\n",
      "liwc vader \t (0.10950596212447393, 2.4505255345049575e-42)\n",
      "liwc subj \t (-0.15991863803941925, 7.8748072972432559e-89)\n",
      "liwc liwc \t (1.0, 0.0)\n"
     ]
    }
   ],
   "source": [
    "# Check the correlations between all the metrics\n",
    "for m1 in core_metrics:\n",
    "    for m2 in core_metrics:\n",
    "        print(m1, m2, '\\t', pearsonr(df[m1], df[m2]))"
   ]
  },
  {
   "cell_type": "code",
   "execution_count": 20,
   "metadata": {},
   "outputs": [
    {
     "data": {
      "image/png": "[encoded data removed]",
      "text/plain": [
       "<matplotlib.figure.Figure at 0x1a17361e48>"
      ]
     },
     "metadata": {},
     "output_type": "display_data"
    }
   ],
   "source": [
    "# Plot relations between metrics\n",
    "pd.plotting.scatter_matrix(df[core_metrics]);"
   ]
  },
  {
   "cell_type": "code",
   "execution_count": 21,
   "metadata": {
    "scrolled": false
   },
   "outputs": [
    {
     "data": {
      "text/html": [
       "<div>\n",
       "<style>\n",
       "    .dataframe thead tr:only-child th {\n",
       "        text-align: right;\n",
       "    }\n",
       "\n",
       "    .dataframe thead th {\n",
       "        text-align: left;\n",
       "    }\n",
       "\n",
       "    .dataframe tbody tr th {\n",
       "        vertical-align: top;\n",
       "    }\n",
       "</style>\n",
       "<table border=\"1\" class=\"dataframe\">\n",
       "  <thead>\n",
       "    <tr style=\"text-align: right;\">\n",
       "      <th></th>\n",
       "      <th></th>\n",
       "      <th>fks</th>\n",
       "      <th>vader</th>\n",
       "      <th>subj</th>\n",
       "      <th>liwc</th>\n",
       "    </tr>\n",
       "    <tr>\n",
       "      <th>term</th>\n",
       "      <th>dat_type</th>\n",
       "      <th></th>\n",
       "      <th></th>\n",
       "      <th></th>\n",
       "      <th></th>\n",
       "    </tr>\n",
       "  </thead>\n",
       "  <tbody>\n",
       "    <tr>\n",
       "      <th rowspan=\"2\" valign=\"top\">autism</th>\n",
       "      <th>PRs</th>\n",
       "      <td>38.669129</td>\n",
       "      <td>1.611883</td>\n",
       "      <td>-3.267742</td>\n",
       "      <td>5.458065</td>\n",
       "    </tr>\n",
       "    <tr>\n",
       "      <th>Papers</th>\n",
       "      <td>26.790189</td>\n",
       "      <td>0.227726</td>\n",
       "      <td>-0.690776</td>\n",
       "      <td>2.538784</td>\n",
       "    </tr>\n",
       "    <tr>\n",
       "      <th rowspan=\"2\" valign=\"top\">cognition</th>\n",
       "      <th>PRs</th>\n",
       "      <td>39.328955</td>\n",
       "      <td>2.300979</td>\n",
       "      <td>-2.337313</td>\n",
       "      <td>4.519403</td>\n",
       "    </tr>\n",
       "    <tr>\n",
       "      <th>Papers</th>\n",
       "      <td>26.134881</td>\n",
       "      <td>0.509349</td>\n",
       "      <td>-0.420725</td>\n",
       "      <td>2.519171</td>\n",
       "    </tr>\n",
       "    <tr>\n",
       "      <th rowspan=\"2\" valign=\"top\">consciousness</th>\n",
       "      <th>PRs</th>\n",
       "      <td>38.986447</td>\n",
       "      <td>0.284682</td>\n",
       "      <td>-2.907895</td>\n",
       "      <td>3.934211</td>\n",
       "    </tr>\n",
       "    <tr>\n",
       "      <th>Papers</th>\n",
       "      <td>29.822600</td>\n",
       "      <td>-0.075455</td>\n",
       "      <td>-0.974737</td>\n",
       "      <td>2.101053</td>\n",
       "    </tr>\n",
       "    <tr>\n",
       "      <th rowspan=\"2\" valign=\"top\">dementia</th>\n",
       "      <th>PRs</th>\n",
       "      <td>38.755669</td>\n",
       "      <td>1.325271</td>\n",
       "      <td>-3.451444</td>\n",
       "      <td>4.469816</td>\n",
       "    </tr>\n",
       "    <tr>\n",
       "      <th>Papers</th>\n",
       "      <td>29.156861</td>\n",
       "      <td>0.436985</td>\n",
       "      <td>-0.778857</td>\n",
       "      <td>2.406688</td>\n",
       "    </tr>\n",
       "    <tr>\n",
       "      <th rowspan=\"2\" valign=\"top\">diabetes</th>\n",
       "      <th>PRs</th>\n",
       "      <td>39.380929</td>\n",
       "      <td>1.143542</td>\n",
       "      <td>-4.117008</td>\n",
       "      <td>4.816647</td>\n",
       "    </tr>\n",
       "    <tr>\n",
       "      <th>Papers</th>\n",
       "      <td>33.662092</td>\n",
       "      <td>0.344294</td>\n",
       "      <td>-1.447126</td>\n",
       "      <td>2.851724</td>\n",
       "    </tr>\n",
       "    <tr>\n",
       "      <th rowspan=\"2\" valign=\"top\">epilepsy</th>\n",
       "      <th>PRs</th>\n",
       "      <td>42.019495</td>\n",
       "      <td>1.201752</td>\n",
       "      <td>-2.883838</td>\n",
       "      <td>4.696970</td>\n",
       "    </tr>\n",
       "    <tr>\n",
       "      <th>Papers</th>\n",
       "      <td>31.787600</td>\n",
       "      <td>0.270679</td>\n",
       "      <td>-1.106286</td>\n",
       "      <td>2.267429</td>\n",
       "    </tr>\n",
       "    <tr>\n",
       "      <th rowspan=\"2\" valign=\"top\">hypertension</th>\n",
       "      <th>PRs</th>\n",
       "      <td>38.273221</td>\n",
       "      <td>0.163219</td>\n",
       "      <td>-3.745399</td>\n",
       "      <td>4.763804</td>\n",
       "    </tr>\n",
       "    <tr>\n",
       "      <th>Papers</th>\n",
       "      <td>33.916115</td>\n",
       "      <td>0.042915</td>\n",
       "      <td>-1.609272</td>\n",
       "      <td>2.747241</td>\n",
       "    </tr>\n",
       "    <tr>\n",
       "      <th rowspan=\"2\" valign=\"top\">optogenetics</th>\n",
       "      <th>PRs</th>\n",
       "      <td>39.246038</td>\n",
       "      <td>2.492258</td>\n",
       "      <td>-3.622642</td>\n",
       "      <td>5.584906</td>\n",
       "    </tr>\n",
       "    <tr>\n",
       "      <th>Papers</th>\n",
       "      <td>17.674777</td>\n",
       "      <td>0.625200</td>\n",
       "      <td>-0.211570</td>\n",
       "      <td>1.897521</td>\n",
       "    </tr>\n",
       "    <tr>\n",
       "      <th rowspan=\"2\" valign=\"top\">perception</th>\n",
       "      <th>PRs</th>\n",
       "      <td>40.098297</td>\n",
       "      <td>1.781945</td>\n",
       "      <td>-2.254038</td>\n",
       "      <td>2.290749</td>\n",
       "    </tr>\n",
       "    <tr>\n",
       "      <th>Papers</th>\n",
       "      <td>29.829468</td>\n",
       "      <td>0.587061</td>\n",
       "      <td>-0.760736</td>\n",
       "      <td>2.483640</td>\n",
       "    </tr>\n",
       "    <tr>\n",
       "      <th rowspan=\"2\" valign=\"top\">stroke</th>\n",
       "      <th>PRs</th>\n",
       "      <td>40.534034</td>\n",
       "      <td>0.486002</td>\n",
       "      <td>-3.556613</td>\n",
       "      <td>4.400571</td>\n",
       "    </tr>\n",
       "    <tr>\n",
       "      <th>Papers</th>\n",
       "      <td>35.876282</td>\n",
       "      <td>0.047822</td>\n",
       "      <td>-1.642464</td>\n",
       "      <td>2.875688</td>\n",
       "    </tr>\n",
       "    <tr>\n",
       "      <th rowspan=\"2\" valign=\"top\">vaccines</th>\n",
       "      <th>PRs</th>\n",
       "      <td>40.284564</td>\n",
       "      <td>1.335344</td>\n",
       "      <td>-4.740492</td>\n",
       "      <td>4.769575</td>\n",
       "    </tr>\n",
       "    <tr>\n",
       "      <th>Papers</th>\n",
       "      <td>29.335667</td>\n",
       "      <td>0.702610</td>\n",
       "      <td>-1.316667</td>\n",
       "      <td>2.076042</td>\n",
       "    </tr>\n",
       "  </tbody>\n",
       "</table>\n",
       "</div>"
      ],
      "text/plain": [
       "                              fks     vader      subj      liwc\n",
       "term          dat_type                                         \n",
       "autism        PRs       38.669129  1.611883 -3.267742  5.458065\n",
       "              Papers    26.790189  0.227726 -0.690776  2.538784\n",
       "cognition     PRs       39.328955  2.300979 -2.337313  4.519403\n",
       "              Papers    26.134881  0.509349 -0.420725  2.519171\n",
       "consciousness PRs       38.986447  0.284682 -2.907895  3.934211\n",
       "              Papers    29.822600 -0.075455 -0.974737  2.101053\n",
       "dementia      PRs       38.755669  1.325271 -3.451444  4.469816\n",
       "              Papers    29.156861  0.436985 -0.778857  2.406688\n",
       "diabetes      PRs       39.380929  1.143542 -4.117008  4.816647\n",
       "              Papers    33.662092  0.344294 -1.447126  2.851724\n",
       "epilepsy      PRs       42.019495  1.201752 -2.883838  4.696970\n",
       "              Papers    31.787600  0.270679 -1.106286  2.267429\n",
       "hypertension  PRs       38.273221  0.163219 -3.745399  4.763804\n",
       "              Papers    33.916115  0.042915 -1.609272  2.747241\n",
       "optogenetics  PRs       39.246038  2.492258 -3.622642  5.584906\n",
       "              Papers    17.674777  0.625200 -0.211570  1.897521\n",
       "perception    PRs       40.098297  1.781945 -2.254038  2.290749\n",
       "              Papers    29.829468  0.587061 -0.760736  2.483640\n",
       "stroke        PRs       40.534034  0.486002 -3.556613  4.400571\n",
       "              Papers    35.876282  0.047822 -1.642464  2.875688\n",
       "vaccines      PRs       40.284564  1.335344 -4.740492  4.769575\n",
       "              Papers    29.335667  0.702610 -1.316667  2.076042"
      ]
     },
     "execution_count": 21,
     "metadata": {},
     "output_type": "execute_result"
    }
   ],
   "source": [
    "# Check the average scores for each measure across different terms\n",
    "avgs = df.groupby(['term', 'dat_type'])[core_metrics].mean()\n",
    "avgs"
   ]
  },
  {
   "cell_type": "code",
   "execution_count": 22,
   "metadata": {
    "scrolled": false
   },
   "outputs": [
    {
     "data": {
      "image/png": "[encoded data removed]",
      "text/plain": [
       "<matplotlib.figure.Figure at 0x1a217064a8>"
      ]
     },
     "metadata": {},
     "output_type": "display_data"
    },
    {
     "data": {
      "image/png": "[encoded data removed]",
      "text/plain": [
       "<matplotlib.figure.Figure at 0x1a2164c7b8>"
      ]
     },
     "metadata": {},
     "output_type": "display_data"
    },
    {
     "data": {
      "image/png": "[encoded data removed]",
      "text/plain": [
       "<matplotlib.figure.Figure at 0x1a17578780>"
      ]
     },
     "metadata": {},
     "output_type": "display_data"
    },
    {
     "data": {
      "image/png": "[encoded data removed]",
      "text/plain": [
       "<matplotlib.figure.Figure at 0x1a17408710>"
      ]
     },
     "metadata": {},
     "output_type": "display_data"
    }
   ],
   "source": [
    "# Plot measures, collapsed across data type\n",
    "#  Note: these histograms not normalized\n",
    "for metric in core_metrics:\n",
    "    fig, ax = plt.subplots(1, 2, figsize=[14, 6])\n",
    "    ax[0].hist(df[metric], bins=25);\n",
    "    pd.plotting.boxplot(df, metric, ax=ax[1]);\n",
    "    plt.suptitle(metric, fontsize=20)"
   ]
  },
  {
   "cell_type": "code",
   "execution_count": 23,
   "metadata": {},
   "outputs": [
    {
     "data": {
      "text/html": [
       "<div>\n",
       "<style>\n",
       "    .dataframe thead tr:only-child th {\n",
       "        text-align: right;\n",
       "    }\n",
       "\n",
       "    .dataframe thead th {\n",
       "        text-align: left;\n",
       "    }\n",
       "\n",
       "    .dataframe tbody tr th {\n",
       "        vertical-align: top;\n",
       "    }\n",
       "</style>\n",
       "<table border=\"1\" class=\"dataframe\">\n",
       "  <thead>\n",
       "    <tr style=\"text-align: right;\">\n",
       "      <th></th>\n",
       "      <th>fks</th>\n",
       "      <th>vader</th>\n",
       "      <th>subj</th>\n",
       "      <th>liwc</th>\n",
       "    </tr>\n",
       "    <tr>\n",
       "      <th>dat_type</th>\n",
       "      <th></th>\n",
       "      <th></th>\n",
       "      <th></th>\n",
       "      <th></th>\n",
       "    </tr>\n",
       "  </thead>\n",
       "  <tbody>\n",
       "    <tr>\n",
       "      <th>PRs</th>\n",
       "      <td>39.698599</td>\n",
       "      <td>1.167061</td>\n",
       "      <td>-3.541334</td>\n",
       "      <td>4.403553</td>\n",
       "    </tr>\n",
       "    <tr>\n",
       "      <th>Papers</th>\n",
       "      <td>29.761217</td>\n",
       "      <td>0.332135</td>\n",
       "      <td>-1.012931</td>\n",
       "      <td>2.446510</td>\n",
       "    </tr>\n",
       "  </tbody>\n",
       "</table>\n",
       "</div>"
      ],
      "text/plain": [
       "                fks     vader      subj      liwc\n",
       "dat_type                                         \n",
       "PRs       39.698599  1.167061 -3.541334  4.403553\n",
       "Papers    29.761217  0.332135 -1.012931  2.446510"
      ]
     },
     "execution_count": 23,
     "metadata": {},
     "output_type": "execute_result"
    }
   ],
   "source": [
    "# Check the average differences between data types\n",
    "df.groupby('dat_type')[core_metrics].mean()"
   ]
  },
  {
   "cell_type": "code",
   "execution_count": 24,
   "metadata": {
    "collapsed": true
   },
   "outputs": [],
   "source": [
    "# Calculate a normalization vector to make histograms sum to one (reflect % of documents)\n",
    "paper_weights = np.ones_like(df[df.dat_type == 'Papers']['fks'])/float(len(df[df.dat_type == 'Papers']['fks']))\n",
    "pr_weights = np.ones_like(df[df.dat_type == 'PRs']['fks'])/float(len(df[df.dat_type == 'PRs']['fks']))\n",
    "\n",
    "# Collect weights together, into a dictionary\n",
    "weights = {'paper': paper_weights, 'pr': pr_weights}"
   ]
  },
  {
   "cell_type": "code",
   "execution_count": 25,
   "metadata": {
    "collapsed": true
   },
   "outputs": [],
   "source": [
    "# Create binning for each measure (so that overlaid histograms share the same binning)\n",
    "nbins = 25\n",
    "_, fks_bins = np.histogram(df['fks'], nbins)\n",
    "_, vader_bins = np.histogram(df['vader'], nbins)\n",
    "_, subj_bins = np.histogram(df['subj'], nbins)\n",
    "_, liwc_bins = np.histogram(df['liwc'], nbins)\n",
    "\n",
    "# Collect bins together into a dictionary\n",
    "bins = {'fks': fks_bins, 'vader': vader_bins, 'subj': subj_bins, 'liwc': liwc_bins}"
   ]
  },
  {
   "cell_type": "code",
   "execution_count": 26,
   "metadata": {
    "collapsed": true
   },
   "outputs": [],
   "source": [
    "# Define helper function for plotting\n",
    "#  Note: this function presumes some pre-processing (bins & weights as dictionaries)\n",
    "def plot_comparison(df, measure, title, bins, weights, ax=None):\n",
    "    \n",
    "    if not ax:\n",
    "        fig, ax = plt.subplots()\n",
    "    \n",
    "    # Plot settings\n",
    "    alpha = 0.5\n",
    "        \n",
    "    # Make the plot\n",
    "    ax.hist(df[df.dat_type == 'Papers'][measure], bins=bins[measure], weights=weights['paper'], alpha=alpha, label='Abstracts');\n",
    "    ax.hist(df[df.dat_type == 'PRs'][measure], bins=bins[measure], weights=weights['pr'], alpha=alpha, label='Press Releases');\n",
    "    ax.set_title(title, fontsize=15, fontweight='bold')\n",
    "    ax.legend();\n",
    "    ax.tick_params(axis='both', which='major', labelsize=12)"
   ]
  },
  {
   "cell_type": "code",
   "execution_count": 27,
   "metadata": {},
   "outputs": [
    {
     "data": {
      "image/png": "[encoded data removed]",
      "text/plain": [
       "<matplotlib.figure.Figure at 0x1a177cc4e0>"
      ]
     },
     "metadata": {},
     "output_type": "display_data"
    },
    {
     "data": {
      "image/png": "[encoded data removed]",
      "text/plain": [
       "<matplotlib.figure.Figure at 0x1a185204e0>"
      ]
     },
     "metadata": {},
     "output_type": "display_data"
    },
    {
     "data": {
      "image/png": "[encoded data removed]",
      "text/plain": [
       "<matplotlib.figure.Figure at 0x1a20ed8f98>"
      ]
     },
     "metadata": {},
     "output_type": "display_data"
    },
    {
     "data": {
      "image/png": "[encoded data removed]",
      "text/plain": [
       "<matplotlib.figure.Figure at 0x1a20f6add8>"
      ]
     },
     "metadata": {},
     "output_type": "display_data"
    }
   ],
   "source": [
    "# Plot each figure separately\n",
    "for meas, title in zip(['fks', 'vader', 'subj', 'liwc'],\n",
    "                       ['Readability', 'Sentiment', 'Subjectivity', 'Confidence']):\n",
    "    plot_comparison(df, meas, title, bins, weights)\n",
    "    plt.savefig(title + '.pdf')"
   ]
  },
  {
   "cell_type": "code",
   "execution_count": 28,
   "metadata": {},
   "outputs": [
    {
     "data": {
      "image/png": "[encoded data removed]",
      "text/plain": [
       "<matplotlib.figure.Figure at 0x1a217ec470>"
      ]
     },
     "metadata": {},
     "output_type": "display_data"
    }
   ],
   "source": [
    "# Plot subplot figure with all measures\n",
    "\n",
    "fig, ax = plt.subplots(2, 2, figsize=[12, 10])\n",
    "\n",
    "plot_comparison(df, 'fks', 'Readability', bins, weights, ax=ax[0, 0])\n",
    "plot_comparison(df, 'vader', 'Sentiment', bins, weights, ax=ax[0, 1])\n",
    "plot_comparison(df, 'subj', 'Subjectivity', bins, weights, ax=ax[1, 0])\n",
    "plot_comparison(df, 'liwc', 'Confidence', bins, weights, ax=ax[1, 1])\n",
    "\n",
    "#plt.savefig('Metrics.pdf', dpi=300, bbox_inches='tight')"
   ]
  },
  {
   "cell_type": "code",
   "execution_count": 29,
   "metadata": {
    "scrolled": false
   },
   "outputs": [],
   "source": [
    "# # Plot measures, separated by data type\n",
    "# for metric in core_metrics:\n",
    "#     fig, ax = plt.subplots(1, 2, figsize=[14, 6])\n",
    "    \n",
    "#     ax[0].hist(df[df.dat_type == 'Papers'][metric], bins=nbins, alpha=alpha, label='Papers');\n",
    "#     ax[0].hist(df[df.dat_type == 'PRs'][metric], bins=nbins, alpha=alpha, label='PRs');\n",
    "#     ax[0].legend()\n",
    "    \n",
    "#     pd.plotting.boxplot(df, metric, 'dat_type', ax=ax[1])\n",
    "    \n",
    "#     plt.suptitle(metric)"
   ]
  },
  {
   "cell_type": "markdown",
   "metadata": {},
   "source": [
    "### Check correlations of measures with document size"
   ]
  },
  {
   "cell_type": "code",
   "execution_count": 30,
   "metadata": {},
   "outputs": [
    {
     "name": "stdout",
     "output_type": "stream",
     "text": [
      "Collapsed\n",
      "\tWords\t (0.15739299790174333, 4.5147252207802171e-86)\n",
      "\tSents\t (0.14389995903602437, 4.1330207244487976e-72)\n",
      "Separated: N-Words\n",
      "\tPapers\t (0.19988026446869228, 9.5222564923498125e-90)\n",
      "\tPRs\t (-0.011104249751068938, 0.40962786854428279)\n",
      "Separated: N-Sentences\n",
      "\tPapers\t (0.16593540657376685, 4.765017901536046e-62)\n",
      "\tPRs\t (-0.0075462605881986659, 0.57524750828835247)\n"
     ]
    }
   ],
   "source": [
    "measure = 'liwc'\n",
    "\n",
    "print('Collapsed')\n",
    "print('\\tWords\\t', pearsonr(df[measure], df['n_words']))\n",
    "print('\\tSents\\t', pearsonr(df[measure], df['n_sentences']))\n",
    "\n",
    "print('Separated: N-Words')\n",
    "print('\\tPapers\\t', pearsonr(df[df.dat_type == 'Papers'][measure], df[df.dat_type == 'Papers']['n_words']))\n",
    "print('\\tPRs\\t', pearsonr(df[df.dat_type == 'PRs'][measure], df[df.dat_type == 'PRs']['n_words']))\n",
    "\n",
    "print('Separated: N-Sentences')\n",
    "print('\\tPapers\\t',pearsonr(df[df.dat_type == 'Papers'][measure], df[df.dat_type == 'Papers']['n_sentences']))\n",
    "print('\\tPRs\\t',pearsonr(df[df.dat_type == 'PRs'][measure], df[df.dat_type == 'PRs']['n_sentences']))"
   ]
  },
  {
   "cell_type": "markdown",
   "metadata": {},
   "source": [
    "# STATISTICS!"
   ]
  },
  {
   "cell_type": "code",
   "execution_count": 31,
   "metadata": {
    "collapsed": true
   },
   "outputs": [],
   "source": [
    "from math import sqrt\n",
    "from statistics import mean, stdev\n",
    "\n",
    "from scipy.stats import bartlett, ttest_ind"
   ]
  },
  {
   "cell_type": "code",
   "execution_count": 32,
   "metadata": {
    "collapsed": true
   },
   "outputs": [],
   "source": [
    "#for metric in ['fkg', 'fks', 'smog', 'ar', 'lwf', 'vader', 'liu', 'subj', 'liwc']:"
   ]
  },
  {
   "cell_type": "code",
   "execution_count": 33,
   "metadata": {},
   "outputs": [
    {
     "name": "stdout",
     "output_type": "stream",
     "text": [
      "9915\n"
     ]
    }
   ],
   "source": [
    "# Degrees of freedom\n",
    "degs_free = (df[df.dat_type == 'Papers'].shape[0] + df[df.dat_type == 'Papers'].shape[1] - 2)\n",
    "print(degs_free)"
   ]
  },
  {
   "cell_type": "code",
   "execution_count": 34,
   "metadata": {
    "collapsed": true
   },
   "outputs": [],
   "source": [
    "# Define Cohen's D\n",
    "def cohens_d(d1, d2):\n",
    "    return (mean(d1) - mean(d2)) / (sqrt((stdev(d1) ** 2 + stdev(d2) ** 2) / 2))"
   ]
  },
  {
   "cell_type": "code",
   "execution_count": 35,
   "metadata": {},
   "outputs": [
    {
     "name": "stdout",
     "output_type": "stream",
     "text": [
      "fks \t BartlettResult(statistic=1094.6410297115715, pvalue=4.8264623414602473e-240)\n",
      "vader \t BartlettResult(statistic=3681.6416994794204, pvalue=0.0)\n",
      "subj \t BartlettResult(statistic=1450.3579437359986, pvalue=0.0)\n",
      "liwc \t BartlettResult(statistic=2383.0342964783922, pvalue=0.0)\n"
     ]
    }
   ],
   "source": [
    "# Run Bartlett's measure for equal variances across all metrics\n",
    "for metric in core_metrics:\n",
    "    print(metric, '\\t', bartlett(df[df.dat_type == 'Papers'][metric],\n",
    "                                  df[df.dat_type == 'PRs'][metric]))"
   ]
  },
  {
   "cell_type": "code",
   "execution_count": 36,
   "metadata": {},
   "outputs": [
    {
     "name": "stdout",
     "output_type": "stream",
     "text": [
      "fks \t Ttest_indResult(statistic=-50.048656946920055, pvalue=0.0)\n",
      "vader \t Ttest_indResult(statistic=-17.5978253578145, pvalue=7.1047822908243471e-68)\n",
      "subj \t Ttest_indResult(statistic=30.401781945088548, pvalue=2.3487912467684833e-192)\n",
      "liwc \t Ttest_indResult(statistic=-20.111542589749536, pvalue=1.124542577989709e-87)\n"
     ]
    }
   ],
   "source": [
    "# Independent samples t-test (Welch's version - does not assume equal variances)\n",
    "for metric in core_metrics:\n",
    "    print(metric, '\\t', ttest_ind(df[df.dat_type == 'Papers'][metric],\n",
    "                                  df[df.dat_type == 'PRs'][metric], equal_var=False))"
   ]
  },
  {
   "cell_type": "code",
   "execution_count": 37,
   "metadata": {},
   "outputs": [
    {
     "name": "stdout",
     "output_type": "stream",
     "text": [
      "fks \t -0.792776155013\n",
      "vader \t -0.320120744415\n",
      "subj \t 0.540057732743\n",
      "liwc \t -0.361628339753\n"
     ]
    }
   ],
   "source": [
    "# Calculate cohens-D effect size between all measures\n",
    "for metric in core_metrics:\n",
    "    print(metric, '\\t', cohens_d(df[df.dat_type == 'Papers'][metric], df[df.dat_type == 'PRs'][metric]))"
   ]
  },
  {
   "cell_type": "code",
   "execution_count": 38,
   "metadata": {},
   "outputs": [
    {
     "data": {
      "text/html": [
       "<div>\n",
       "<style>\n",
       "    .dataframe thead tr:only-child th {\n",
       "        text-align: right;\n",
       "    }\n",
       "\n",
       "    .dataframe thead th {\n",
       "        text-align: left;\n",
       "    }\n",
       "\n",
       "    .dataframe tbody tr th {\n",
       "        vertical-align: top;\n",
       "    }\n",
       "</style>\n",
       "<table border=\"1\" class=\"dataframe\">\n",
       "  <thead>\n",
       "    <tr style=\"text-align: right;\">\n",
       "      <th></th>\n",
       "      <th>count</th>\n",
       "      <th>mean</th>\n",
       "      <th>std</th>\n",
       "      <th>min</th>\n",
       "      <th>25%</th>\n",
       "      <th>50%</th>\n",
       "      <th>75%</th>\n",
       "      <th>max</th>\n",
       "    </tr>\n",
       "    <tr>\n",
       "      <th>dat_type</th>\n",
       "      <th></th>\n",
       "      <th></th>\n",
       "      <th></th>\n",
       "      <th></th>\n",
       "      <th></th>\n",
       "      <th></th>\n",
       "      <th></th>\n",
       "      <th></th>\n",
       "    </tr>\n",
       "  </thead>\n",
       "  <tbody>\n",
       "    <tr>\n",
       "      <th>PRs</th>\n",
       "      <td>5516.0</td>\n",
       "      <td>4.403553</td>\n",
       "      <td>6.652053</td>\n",
       "      <td>-17.0</td>\n",
       "      <td>0.0</td>\n",
       "      <td>4.0</td>\n",
       "      <td>9.0</td>\n",
       "      <td>24.0</td>\n",
       "    </tr>\n",
       "    <tr>\n",
       "      <th>Papers</th>\n",
       "      <td>9899.0</td>\n",
       "      <td>2.446510</td>\n",
       "      <td>3.784752</td>\n",
       "      <td>-13.0</td>\n",
       "      <td>0.0</td>\n",
       "      <td>2.0</td>\n",
       "      <td>5.0</td>\n",
       "      <td>23.0</td>\n",
       "    </tr>\n",
       "  </tbody>\n",
       "</table>\n",
       "</div>"
      ],
      "text/plain": [
       "           count      mean       std   min  25%  50%  75%   max\n",
       "dat_type                                                       \n",
       "PRs       5516.0  4.403553  6.652053 -17.0  0.0  4.0  9.0  24.0\n",
       "Papers    9899.0  2.446510  3.784752 -13.0  0.0  2.0  5.0  23.0"
      ]
     },
     "execution_count": 38,
     "metadata": {},
     "output_type": "execute_result"
    }
   ],
   "source": [
    "#\n",
    "df.groupby('dat_type')['liwc'].describe()"
   ]
  },
  {
   "cell_type": "code",
   "execution_count": 39,
   "metadata": {},
   "outputs": [
    {
     "data": {
      "text/html": [
       "<div>\n",
       "<style>\n",
       "    .dataframe thead tr:only-child th {\n",
       "        text-align: right;\n",
       "    }\n",
       "\n",
       "    .dataframe thead th {\n",
       "        text-align: left;\n",
       "    }\n",
       "\n",
       "    .dataframe tbody tr th {\n",
       "        vertical-align: top;\n",
       "    }\n",
       "</style>\n",
       "<table border=\"1\" class=\"dataframe\">\n",
       "  <thead>\n",
       "    <tr>\n",
       "      <th></th>\n",
       "      <th colspan=\"8\" halign=\"left\">fks</th>\n",
       "      <th colspan=\"8\" halign=\"left\">vader</th>\n",
       "      <th colspan=\"8\" halign=\"left\">subj</th>\n",
       "      <th colspan=\"8\" halign=\"left\">liwc</th>\n",
       "    </tr>\n",
       "    <tr>\n",
       "      <th></th>\n",
       "      <th>count</th>\n",
       "      <th>mean</th>\n",
       "      <th>std</th>\n",
       "      <th>min</th>\n",
       "      <th>25%</th>\n",
       "      <th>50%</th>\n",
       "      <th>75%</th>\n",
       "      <th>max</th>\n",
       "      <th>count</th>\n",
       "      <th>mean</th>\n",
       "      <th>std</th>\n",
       "      <th>min</th>\n",
       "      <th>25%</th>\n",
       "      <th>50%</th>\n",
       "      <th>75%</th>\n",
       "      <th>max</th>\n",
       "      <th>count</th>\n",
       "      <th>mean</th>\n",
       "      <th>std</th>\n",
       "      <th>min</th>\n",
       "      <th>25%</th>\n",
       "      <th>50%</th>\n",
       "      <th>75%</th>\n",
       "      <th>max</th>\n",
       "      <th>count</th>\n",
       "      <th>mean</th>\n",
       "      <th>std</th>\n",
       "      <th>min</th>\n",
       "      <th>25%</th>\n",
       "      <th>50%</th>\n",
       "      <th>75%</th>\n",
       "      <th>max</th>\n",
       "    </tr>\n",
       "    <tr>\n",
       "      <th>dat_type</th>\n",
       "      <th></th>\n",
       "      <th></th>\n",
       "      <th></th>\n",
       "      <th></th>\n",
       "      <th></th>\n",
       "      <th></th>\n",
       "      <th></th>\n",
       "      <th></th>\n",
       "      <th></th>\n",
       "      <th></th>\n",
       "      <th></th>\n",
       "      <th></th>\n",
       "      <th></th>\n",
       "      <th></th>\n",
       "      <th></th>\n",
       "      <th></th>\n",
       "      <th></th>\n",
       "      <th></th>\n",
       "      <th></th>\n",
       "      <th></th>\n",
       "      <th></th>\n",
       "      <th></th>\n",
       "      <th></th>\n",
       "      <th></th>\n",
       "      <th></th>\n",
       "      <th></th>\n",
       "      <th></th>\n",
       "      <th></th>\n",
       "      <th></th>\n",
       "      <th></th>\n",
       "      <th></th>\n",
       "      <th></th>\n",
       "    </tr>\n",
       "  </thead>\n",
       "  <tbody>\n",
       "    <tr>\n",
       "      <th>PRs</th>\n",
       "      <td>5516.0</td>\n",
       "      <td>39.698599</td>\n",
       "      <td>9.780422</td>\n",
       "      <td>-7.68</td>\n",
       "      <td>33.44</td>\n",
       "      <td>40.18</td>\n",
       "      <td>46.91</td>\n",
       "      <td>75.88</td>\n",
       "      <td>5516.0</td>\n",
       "      <td>1.167061</td>\n",
       "      <td>3.304689</td>\n",
       "      <td>-9.8989</td>\n",
       "      <td>-0.8860</td>\n",
       "      <td>1.2038</td>\n",
       "      <td>3.290575</td>\n",
       "      <td>11.1935</td>\n",
       "      <td>5516.0</td>\n",
       "      <td>-3.541334</td>\n",
       "      <td>5.567546</td>\n",
       "      <td>-20.0</td>\n",
       "      <td>-7.0</td>\n",
       "      <td>-3.0</td>\n",
       "      <td>0.0</td>\n",
       "      <td>16.0</td>\n",
       "      <td>5516.0</td>\n",
       "      <td>4.403553</td>\n",
       "      <td>6.652053</td>\n",
       "      <td>-17.0</td>\n",
       "      <td>0.0</td>\n",
       "      <td>4.0</td>\n",
       "      <td>9.0</td>\n",
       "      <td>24.0</td>\n",
       "    </tr>\n",
       "    <tr>\n",
       "      <th>Papers</th>\n",
       "      <td>9899.0</td>\n",
       "      <td>29.761217</td>\n",
       "      <td>14.784840</td>\n",
       "      <td>-23.79</td>\n",
       "      <td>19.89</td>\n",
       "      <td>29.59</td>\n",
       "      <td>39.37</td>\n",
       "      <td>85.08</td>\n",
       "      <td>9899.0</td>\n",
       "      <td>0.332135</td>\n",
       "      <td>1.638296</td>\n",
       "      <td>-9.7331</td>\n",
       "      <td>-0.5996</td>\n",
       "      <td>0.3912</td>\n",
       "      <td>1.320100</td>\n",
       "      <td>7.9335</td>\n",
       "      <td>9899.0</td>\n",
       "      <td>-1.012931</td>\n",
       "      <td>3.583239</td>\n",
       "      <td>-16.0</td>\n",
       "      <td>-3.0</td>\n",
       "      <td>-1.0</td>\n",
       "      <td>1.0</td>\n",
       "      <td>16.0</td>\n",
       "      <td>9899.0</td>\n",
       "      <td>2.446510</td>\n",
       "      <td>3.784752</td>\n",
       "      <td>-13.0</td>\n",
       "      <td>0.0</td>\n",
       "      <td>2.0</td>\n",
       "      <td>5.0</td>\n",
       "      <td>23.0</td>\n",
       "    </tr>\n",
       "  </tbody>\n",
       "</table>\n",
       "</div>"
      ],
      "text/plain": [
       "             fks                                                           \\\n",
       "           count       mean        std    min    25%    50%    75%    max   \n",
       "dat_type                                                                    \n",
       "PRs       5516.0  39.698599   9.780422  -7.68  33.44  40.18  46.91  75.88   \n",
       "Papers    9899.0  29.761217  14.784840 -23.79  19.89  29.59  39.37  85.08   \n",
       "\n",
       "           vader                                                        \\\n",
       "           count      mean       std     min     25%     50%       75%   \n",
       "dat_type                                                                 \n",
       "PRs       5516.0  1.167061  3.304689 -9.8989 -0.8860  1.2038  3.290575   \n",
       "Papers    9899.0  0.332135  1.638296 -9.7331 -0.5996  0.3912  1.320100   \n",
       "\n",
       "                     subj                                                 \\\n",
       "              max   count      mean       std   min  25%  50%  75%   max   \n",
       "dat_type                                                                   \n",
       "PRs       11.1935  5516.0 -3.541334  5.567546 -20.0 -7.0 -3.0  0.0  16.0   \n",
       "Papers     7.9335  9899.0 -1.012931  3.583239 -16.0 -3.0 -1.0  1.0  16.0   \n",
       "\n",
       "            liwc                                                 \n",
       "           count      mean       std   min  25%  50%  75%   max  \n",
       "dat_type                                                         \n",
       "PRs       5516.0  4.403553  6.652053 -17.0  0.0  4.0  9.0  24.0  \n",
       "Papers    9899.0  2.446510  3.784752 -13.0  0.0  2.0  5.0  23.0  "
      ]
     },
     "execution_count": 39,
     "metadata": {},
     "output_type": "execute_result"
    }
   ],
   "source": [
    "# Check direction of effects\n",
    "df.groupby('dat_type')[core_metrics].describe()"
   ]
  },
  {
   "cell_type": "markdown",
   "metadata": {},
   "source": [
    "## EXPLORE: Separating by journal"
   ]
  },
  {
   "cell_type": "code",
   "execution_count": 40,
   "metadata": {
    "collapsed": true
   },
   "outputs": [],
   "source": [
    "prs = df[df.dat_type == 'PRs']\n",
    "\n",
    "prs.journal.value_counts()[prs.journal.value_counts() > 40]\n",
    "\n",
    "journals = set(prs.journal.value_counts()[prs.journal.value_counts() > 40].index)"
   ]
  },
  {
   "cell_type": "code",
   "execution_count": 41,
   "metadata": {
    "collapsed": true
   },
   "outputs": [],
   "source": [
    "# Data: https://www.researchgate.net/publication/321625961_2017_Latest_Impact_Factors_Journal_ListThomson_Reuters_based_on_2016_Journal_Citation_Reports\n",
    "ifs = {'Cell': 30.410,\n",
    "       'Cell Reports' : 8.282,\n",
    "       'JAMA': 44.405,\n",
    "       'Lancet': 47.831,\n",
    "       'Nature': 40.137,\n",
    "       'Nature Communications' : 12.124,\n",
    "       'Nature Neuroscience' : 17.839,\n",
    "       'Neurology': 7.592,\n",
    "       'Neuron': 14.024,\n",
    "       'New England Journal of Medicine' : 72.406,\n",
    "       'PLOS ONE': 2.806,\n",
    "       'Proceedings of the National Academy of Sciences': 9.661,\n",
    "       'Science': 37.205,\n",
    "       'Science Translational Medicine': 16.796,\n",
    "       'Scientific Reports': 4.259,\n",
    "       'eLife': 7.725,\n",
    "       \"Journal of Alzheimer's Disease\" : 3.731,\n",
    "       'Psychological Science' : 5.667,\n",
    "       'Current Biology' : 8.851,\n",
    "       'Journal of the American College of Cardiology' : 19.896,\n",
    "       'JAMA Neurology' : 10.029}"
   ]
  },
  {
   "cell_type": "code",
   "execution_count": 42,
   "metadata": {},
   "outputs": [
    {
     "name": "stdout",
     "output_type": "stream",
     "text": [
      "(0.108164212345009, 0.64071986712262596)\n"
     ]
    },
    {
     "data": {
      "text/plain": [
       "[<matplotlib.lines.Line2D at 0x1a17a0ecf8>]"
      ]
     },
     "execution_count": 42,
     "metadata": {},
     "output_type": "execute_result"
    },
    {
     "data": {
      "image/png": "[encoded data removed]",
      "text/plain": [
       "<matplotlib.figure.Figure at 0x1a20f56240>"
      ]
     },
     "metadata": {},
     "output_type": "display_data"
    }
   ],
   "source": [
    "d1 = []\n",
    "d2 = []\n",
    "for ke, va in ifs.items():\n",
    "    d1.append(np.median(prs[prs.journal == ke].fks))\n",
    "    d2.append(va)\n",
    "    \n",
    "print(pearsonr(d1, d2))\n",
    "plt.plot(d1, d2, '.')"
   ]
  },
  {
   "cell_type": "markdown",
   "metadata": {},
   "source": [
    "## EXPLORE: ANOVA (?)\n",
    "\n",
    "Maybe something to do. MESSY EXPLORATIONS."
   ]
  },
  {
   "cell_type": "code",
   "execution_count": 43,
   "metadata": {},
   "outputs": [
    {
     "name": "stderr",
     "output_type": "stream",
     "text": [
      "/Users/tom/anaconda/lib/python3.6/site-packages/statsmodels/compat/pandas.py:56: FutureWarning: The pandas.core.datetools module is deprecated and will be removed in a future version. Please use the pandas.tseries module instead.\n",
      "  from pandas.core import datetools\n"
     ]
    }
   ],
   "source": [
    "import statsmodels\n",
    "import statsmodels.api as sm\n",
    "from statsmodels.formula.api import ols"
   ]
  },
  {
   "cell_type": "code",
   "execution_count": 44,
   "metadata": {},
   "outputs": [
    {
     "data": {
      "text/plain": [
       "Index(['term', 'smog', 'ar', 'fkg', 'fks', 'lwf', 'vader', 'liu', 'subj',\n",
       "       'liwc', 'n_words', 'n_sentences', 'has_source_link', 'has_article_link',\n",
       "       'has_other_link', 'region', 'journal', 'dat_type'],\n",
       "      dtype='object')"
      ]
     },
     "execution_count": 44,
     "metadata": {},
     "output_type": "execute_result"
    }
   ],
   "source": [
    "df.columns"
   ]
  },
  {
   "cell_type": "code",
   "execution_count": 45,
   "metadata": {
    "collapsed": true
   },
   "outputs": [],
   "source": [
    "#lm = ols('liwc ~ dat_type + n_words', data=df).fit()\n",
    "lm = ols('liwc ~ subj + vader + fks + n_words + dat_type', data=df).fit()\n",
    "table = sm.stats.anova_lm(lm, typ=2)"
   ]
  },
  {
   "cell_type": "code",
   "execution_count": 46,
   "metadata": {},
   "outputs": [
    {
     "data": {
      "text/html": [
       "<div>\n",
       "<style>\n",
       "    .dataframe thead tr:only-child th {\n",
       "        text-align: right;\n",
       "    }\n",
       "\n",
       "    .dataframe thead th {\n",
       "        text-align: left;\n",
       "    }\n",
       "\n",
       "    .dataframe tbody tr th {\n",
       "        vertical-align: top;\n",
       "    }\n",
       "</style>\n",
       "<table border=\"1\" class=\"dataframe\">\n",
       "  <thead>\n",
       "    <tr style=\"text-align: right;\">\n",
       "      <th></th>\n",
       "      <th>sum_sq</th>\n",
       "      <th>df</th>\n",
       "      <th>F</th>\n",
       "      <th>PR(&gt;F)</th>\n",
       "    </tr>\n",
       "  </thead>\n",
       "  <tbody>\n",
       "    <tr>\n",
       "      <th>dat_type</th>\n",
       "      <td>1476.692842</td>\n",
       "      <td>1.0</td>\n",
       "      <td>60.420001</td>\n",
       "      <td>8.145162e-15</td>\n",
       "    </tr>\n",
       "    <tr>\n",
       "      <th>subj</th>\n",
       "      <td>5645.326092</td>\n",
       "      <td>1.0</td>\n",
       "      <td>230.982774</td>\n",
       "      <td>8.638903e-52</td>\n",
       "    </tr>\n",
       "    <tr>\n",
       "      <th>vader</th>\n",
       "      <td>3116.964273</td>\n",
       "      <td>1.0</td>\n",
       "      <td>127.532944</td>\n",
       "      <td>1.854037e-29</td>\n",
       "    </tr>\n",
       "    <tr>\n",
       "      <th>fks</th>\n",
       "      <td>306.281064</td>\n",
       "      <td>1.0</td>\n",
       "      <td>12.531721</td>\n",
       "      <td>4.012805e-04</td>\n",
       "    </tr>\n",
       "    <tr>\n",
       "      <th>n_words</th>\n",
       "      <td>519.004893</td>\n",
       "      <td>1.0</td>\n",
       "      <td>21.235477</td>\n",
       "      <td>4.094333e-06</td>\n",
       "    </tr>\n",
       "    <tr>\n",
       "      <th>Residual</th>\n",
       "      <td>376603.103632</td>\n",
       "      <td>15409.0</td>\n",
       "      <td>NaN</td>\n",
       "      <td>NaN</td>\n",
       "    </tr>\n",
       "  </tbody>\n",
       "</table>\n",
       "</div>"
      ],
      "text/plain": [
       "                 sum_sq       df           F        PR(>F)\n",
       "dat_type    1476.692842      1.0   60.420001  8.145162e-15\n",
       "subj        5645.326092      1.0  230.982774  8.638903e-52\n",
       "vader       3116.964273      1.0  127.532944  1.854037e-29\n",
       "fks          306.281064      1.0   12.531721  4.012805e-04\n",
       "n_words      519.004893      1.0   21.235477  4.094333e-06\n",
       "Residual  376603.103632  15409.0         NaN           NaN"
      ]
     },
     "execution_count": 46,
     "metadata": {},
     "output_type": "execute_result"
    }
   ],
   "source": [
    "table"
   ]
  },
  {
   "cell_type": "code",
   "execution_count": 47,
   "metadata": {
    "collapsed": true
   },
   "outputs": [],
   "source": [
    "lm = ols('liwc ~ dat_type', data=df).fit()\n",
    "table = sm.stats.anova_lm(lm, typ=2)"
   ]
  },
  {
   "cell_type": "code",
   "execution_count": 48,
   "metadata": {},
   "outputs": [
    {
     "name": "stdout",
     "output_type": "stream",
     "text": [
      "                            OLS Regression Results                            \n",
      "==============================================================================\n",
      "Dep. Variable:                   liwc   R-squared:                       0.034\n",
      "Model:                            OLS   Adj. R-squared:                  0.034\n",
      "Method:                 Least Squares   F-statistic:                     542.0\n",
      "Date:                Tue, 17 Jul 2018   Prob (F-statistic):          7.52e-118\n",
      "Time:                        21:52:57   Log-Likelihood:                -46691.\n",
      "No. Observations:               15415   AIC:                         9.339e+04\n",
      "Df Residuals:                   15413   BIC:                         9.340e+04\n",
      "Df Model:                           1                                         \n",
      "Covariance Type:            nonrobust                                         \n",
      "======================================================================================\n",
      "                         coef    std err          t      P>|t|      [0.025      0.975]\n",
      "--------------------------------------------------------------------------------------\n",
      "Intercept              4.4036      0.067     65.368      0.000       4.272       4.536\n",
      "dat_type[T.Papers]    -1.9570      0.084    -23.280      0.000      -2.122      -1.792\n",
      "==============================================================================\n",
      "Omnibus:                      726.808   Durbin-Watson:                   1.962\n",
      "Prob(Omnibus):                  0.000   Jarque-Bera (JB):             1631.999\n",
      "Skew:                           0.305   Prob(JB):                         0.00\n",
      "Kurtosis:                       4.473   Cond. No.                         3.10\n",
      "==============================================================================\n",
      "\n",
      "Warnings:\n",
      "[1] Standard Errors assume that the covariance matrix of the errors is correctly specified.\n"
     ]
    }
   ],
   "source": [
    "print(lm.summary())"
   ]
  },
  {
   "cell_type": "code",
   "execution_count": 49,
   "metadata": {},
   "outputs": [
    {
     "data": {
      "text/html": [
       "<div>\n",
       "<style>\n",
       "    .dataframe thead tr:only-child th {\n",
       "        text-align: right;\n",
       "    }\n",
       "\n",
       "    .dataframe thead th {\n",
       "        text-align: left;\n",
       "    }\n",
       "\n",
       "    .dataframe tbody tr th {\n",
       "        vertical-align: top;\n",
       "    }\n",
       "</style>\n",
       "<table border=\"1\" class=\"dataframe\">\n",
       "  <thead>\n",
       "    <tr style=\"text-align: right;\">\n",
       "      <th></th>\n",
       "      <th>sum_sq</th>\n",
       "      <th>df</th>\n",
       "      <th>F</th>\n",
       "      <th>PR(&gt;F)</th>\n",
       "    </tr>\n",
       "  </thead>\n",
       "  <tbody>\n",
       "    <tr>\n",
       "      <th>dat_type</th>\n",
       "      <td>13566.662882</td>\n",
       "      <td>1.0</td>\n",
       "      <td>541.970119</td>\n",
       "      <td>7.519791e-118</td>\n",
       "    </tr>\n",
       "    <tr>\n",
       "      <th>Residual</th>\n",
       "      <td>385820.117267</td>\n",
       "      <td>15413.0</td>\n",
       "      <td>NaN</td>\n",
       "      <td>NaN</td>\n",
       "    </tr>\n",
       "  </tbody>\n",
       "</table>\n",
       "</div>"
      ],
      "text/plain": [
       "                 sum_sq       df           F         PR(>F)\n",
       "dat_type   13566.662882      1.0  541.970119  7.519791e-118\n",
       "Residual  385820.117267  15413.0         NaN            NaN"
      ]
     },
     "execution_count": 49,
     "metadata": {},
     "output_type": "execute_result"
    }
   ],
   "source": [
    "table"
   ]
  },
  {
   "cell_type": "code",
   "execution_count": 50,
   "metadata": {
    "collapsed": true
   },
   "outputs": [],
   "source": [
    "# compute one-way ANOVA P value   \n",
    "from scipy import stats  \n",
    "      \n",
    "f_val, p_val = stats.f_oneway(df[df.dat_type == 'Papers']['liwc'].values,\n",
    "                              df[df.dat_type == 'PRs']['liwc'].values)\n"
   ]
  }
 ],
 "metadata": {
  "anaconda-cloud": {},
  "kernelspec": {
   "display_name": "Python [default]",
   "language": "python",
   "name": "python3"
  },
  "language_info": {
   "codemirror_mode": {
    "name": "ipython",
    "version": 3
   },
   "file_extension": ".py",
   "mimetype": "text/x-python",
   "name": "python",
   "nbconvert_exporter": "python",
   "pygments_lexer": "ipython3",
   "version": "3.6.3"
  }
 },
 "nbformat": 4,
 "nbformat_minor": 2
}
